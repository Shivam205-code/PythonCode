{
  "nbformat": 4,
  "nbformat_minor": 0,
  "metadata": {
    "colab": {
      "name": "DST_023_Degree.ipynb",
      "provenance": [],
      "collapsed_sections": []
    },
    "kernelspec": {
      "name": "python3",
      "display_name": "Python 3"
    },
    "language_info": {
      "name": "python"
    }
  },
  "cells": [
    {
      "cell_type": "markdown",
      "metadata": {
        "id": "hlnau9IuG--l"
      },
      "source": [
        "**Importing Python Libraries**"
      ]
    },
    {
      "cell_type": "code",
      "metadata": {
        "id": "fQCx6r43P0D4"
      },
      "source": [
        "import numpy as np\n",
        "from scipy import signal\n",
        "import pandas as pd\n",
        "import matplotlib.pyplot as plt\n",
        "import random as rn\n",
        "import math"
      ],
      "execution_count": null,
      "outputs": []
    },
    {
      "cell_type": "markdown",
      "metadata": {
        "id": "AEo9v_rKHYCV"
      },
      "source": [
        "**Data Importing**"
      ]
    },
    {
      "cell_type": "code",
      "metadata": {
        "colab": {
          "base_uri": "https://localhost:8080/",
          "height": 203
        },
        "id": "GATpeR3PP7TS",
        "outputId": "d0f38073-2dd3-4298-bff1-0ccc9673913e"
      },
      "source": [
        "df = pd.read_csv('DST0.csv')\n",
        "df.head()"
      ],
      "execution_count": null,
      "outputs": [
        {
          "output_type": "execute_result",
          "data": {
            "text/html": [
              "<div>\n",
              "<style scoped>\n",
              "    .dataframe tbody tr th:only-of-type {\n",
              "        vertical-align: middle;\n",
              "    }\n",
              "\n",
              "    .dataframe tbody tr th {\n",
              "        vertical-align: top;\n",
              "    }\n",
              "\n",
              "    .dataframe thead th {\n",
              "        text-align: right;\n",
              "    }\n",
              "</style>\n",
              "<table border=\"1\" class=\"dataframe\">\n",
              "  <thead>\n",
              "    <tr style=\"text-align: right;\">\n",
              "      <th></th>\n",
              "      <th>Current(A)</th>\n",
              "      <th>Voltage(V)</th>\n",
              "      <th>Charge_Capacity(Ah)</th>\n",
              "      <th>Discharge_Capacity(Ah)</th>\n",
              "      <th>A</th>\n",
              "      <th>SOC</th>\n",
              "      <th>SOC%</th>\n",
              "    </tr>\n",
              "  </thead>\n",
              "  <tbody>\n",
              "    <tr>\n",
              "      <th>0</th>\n",
              "      <td>0.000000</td>\n",
              "      <td>4.154059</td>\n",
              "      <td>0.000000e+00</td>\n",
              "      <td>0.0</td>\n",
              "      <td>0.0</td>\n",
              "      <td>1.0</td>\n",
              "      <td>100.0</td>\n",
              "    </tr>\n",
              "    <tr>\n",
              "      <th>1</th>\n",
              "      <td>0.999353</td>\n",
              "      <td>4.247043</td>\n",
              "      <td>7.054610e-10</td>\n",
              "      <td>0.0</td>\n",
              "      <td>0.0</td>\n",
              "      <td>1.0</td>\n",
              "      <td>100.0</td>\n",
              "    </tr>\n",
              "    <tr>\n",
              "      <th>2</th>\n",
              "      <td>0.339846</td>\n",
              "      <td>4.199741</td>\n",
              "      <td>9.933060e-04</td>\n",
              "      <td>0.0</td>\n",
              "      <td>0.0</td>\n",
              "      <td>1.0</td>\n",
              "      <td>100.0</td>\n",
              "    </tr>\n",
              "    <tr>\n",
              "      <th>3</th>\n",
              "      <td>0.317353</td>\n",
              "      <td>4.199903</td>\n",
              "      <td>1.905517e-03</td>\n",
              "      <td>0.0</td>\n",
              "      <td>0.0</td>\n",
              "      <td>1.0</td>\n",
              "      <td>100.0</td>\n",
              "    </tr>\n",
              "    <tr>\n",
              "      <th>4</th>\n",
              "      <td>0.300798</td>\n",
              "      <td>4.199903</td>\n",
              "      <td>2.764220e-03</td>\n",
              "      <td>0.0</td>\n",
              "      <td>0.0</td>\n",
              "      <td>1.0</td>\n",
              "      <td>100.0</td>\n",
              "    </tr>\n",
              "  </tbody>\n",
              "</table>\n",
              "</div>"
            ],
            "text/plain": [
              "   Current(A)  Voltage(V)  Charge_Capacity(Ah)  ...    A  SOC   SOC%\n",
              "0    0.000000    4.154059         0.000000e+00  ...  0.0  1.0  100.0\n",
              "1    0.999353    4.247043         7.054610e-10  ...  0.0  1.0  100.0\n",
              "2    0.339846    4.199741         9.933060e-04  ...  0.0  1.0  100.0\n",
              "3    0.317353    4.199903         1.905517e-03  ...  0.0  1.0  100.0\n",
              "4    0.300798    4.199903         2.764220e-03  ...  0.0  1.0  100.0\n",
              "\n",
              "[5 rows x 7 columns]"
            ]
          },
          "metadata": {},
          "execution_count": 2
        }
      ]
    },
    {
      "cell_type": "code",
      "metadata": {
        "colab": {
          "base_uri": "https://localhost:8080/"
        },
        "id": "cdJQNoFFQOJL",
        "outputId": "b5c46ca7-b2b0-4184-c68b-4d53dfc07167"
      },
      "source": [
        "X =df.drop(['Charge_Capacity(Ah)','Discharge_Capacity(Ah)', 'A', 'SOC', 'SOC%'], axis=1)\n",
        "X = X.dropna()\n",
        "print(X)"
      ],
      "execution_count": null,
      "outputs": [
        {
          "output_type": "stream",
          "name": "stdout",
          "text": [
            "      Current(A)  Voltage(V)\n",
            "0       0.000000    4.154059\n",
            "1       0.999353    4.247043\n",
            "2       0.339846    4.199741\n",
            "3       0.317353    4.199903\n",
            "4       0.300798    4.199903\n",
            "...          ...         ...\n",
            "7195   -0.000074    3.577693\n",
            "7196   -0.000254    3.577855\n",
            "7197   -0.000254    3.577855\n",
            "7198   -0.000254    3.578179\n",
            "7199   -0.000434    3.578017\n",
            "\n",
            "[7200 rows x 2 columns]\n"
          ]
        }
      ]
    },
    {
      "cell_type": "markdown",
      "metadata": {
        "id": "rm7D3YkHHhUq"
      },
      "source": [
        "**Moving Average Filter for Input Quantities**"
      ]
    },
    {
      "cell_type": "code",
      "metadata": {
        "colab": {
          "base_uri": "https://localhost:8080/"
        },
        "id": "PrLVWs5mR2_L",
        "outputId": "b1434008-abbb-431f-fff6-41f97c4db8e2"
      },
      "source": [
        "L=7200 #L-point filter\n",
        "b = (np.ones(L))/L #numerator co-effs of filter transfer function\n",
        "a = 1  #denominator co-effs of filter transfer function\n",
        "Xf = signal.lfilter(b,a,X) #filter output using lfilter function\n",
        "print(Xf)"
      ],
      "execution_count": null,
      "outputs": [
        {
          "output_type": "stream",
          "name": "stdout",
          "text": [
            "[[ 0.00000000e+00  5.76952696e-04]\n",
            " [ 1.38799060e-04  7.28666095e-04]\n",
            " [ 4.72008768e-05  6.30498222e-04]\n",
            " ...\n",
            " [-3.52962500e-08  4.96889058e-04]\n",
            " [-3.52962500e-08  4.96934026e-04]\n",
            " [-6.02890278e-08  4.96886549e-04]]\n"
          ]
        }
      ]
    },
    {
      "cell_type": "code",
      "metadata": {
        "colab": {
          "base_uri": "https://localhost:8080/",
          "height": 534
        },
        "id": "iW-ecsOOSDQr",
        "outputId": "3fe85c41-966a-4b14-c2cb-fa22b253aad3"
      },
      "source": [
        "Xf1 = pd.DataFrame(Xf)\n",
        "print(Xf1)\n",
        "plt.plot(Xf1)"
      ],
      "execution_count": null,
      "outputs": [
        {
          "output_type": "stream",
          "name": "stdout",
          "text": [
            "                 0         1\n",
            "0     0.000000e+00  0.000577\n",
            "1     1.387991e-04  0.000729\n",
            "2     4.720088e-05  0.000630\n",
            "3     4.407679e-05  0.000627\n",
            "4     4.177746e-05  0.000625\n",
            "...            ...       ...\n",
            "7195 -1.030361e-08  0.000497\n",
            "7196 -3.529625e-08  0.000497\n",
            "7197 -3.529625e-08  0.000497\n",
            "7198 -3.529625e-08  0.000497\n",
            "7199 -6.028903e-08  0.000497\n",
            "\n",
            "[7200 rows x 2 columns]\n"
          ]
        },
        {
          "output_type": "execute_result",
          "data": {
            "text/plain": [
              "[<matplotlib.lines.Line2D at 0x7fa63e057e50>,\n",
              " <matplotlib.lines.Line2D at 0x7fa63e00df50>]"
            ]
          },
          "metadata": {},
          "execution_count": 5
        },
        {
          "output_type": "display_data",
          "data": {
            "image/png": "[encoded data removed]",
            "text/plain": [
              "<Figure size 432x288 with 1 Axes>"
            ]
          },
          "metadata": {
            "needs_background": "light"
          }
        }
      ]
    },
    {
      "cell_type": "markdown",
      "metadata": {
        "id": "KlC2_e1JH1Wk"
      },
      "source": [
        "**Data Normalization**"
      ]
    },
    {
      "cell_type": "code",
      "metadata": {
        "colab": {
          "base_uri": "https://localhost:8080/",
          "height": 534
        },
        "id": "KN02oYQFvTae",
        "outputId": "bd77dbc4-9236-4dc3-c700-b1d798cc5126"
      },
      "source": [
        "df_min_max_scaled = Xf1.copy()  \n",
        "# apply normalization techniques\n",
        "for column in df_min_max_scaled.columns:\n",
        "    df_min_max_scaled[column] = -1 + 2*(df_min_max_scaled[column] - df_min_max_scaled[column].min()) / (df_min_max_scaled[column].max() - df_min_max_scaled[column].min())    \n",
        "    Xn = df_min_max_scaled.copy()\n",
        "# view normalized data\n",
        "print(Xn)\n",
        "plt.plot(Xn)"
      ],
      "execution_count": null,
      "outputs": [
        {
          "output_type": "stream",
          "name": "stdout",
          "text": [
            "             0         1\n",
            "0     0.333458  0.438045\n",
            "1     0.666567  0.750795\n",
            "2     0.446737  0.548427\n",
            "3     0.439239  0.542033\n",
            "4     0.433721  0.537293\n",
            "...        ...       ...\n",
            "7195  0.333433  0.273003\n",
            "7196  0.333373  0.272998\n",
            "7197  0.333373  0.272998\n",
            "7198  0.333373  0.273090\n",
            "7199  0.333313  0.272993\n",
            "\n",
            "[7200 rows x 2 columns]\n"
          ]
        },
        {
          "output_type": "execute_result",
          "data": {
            "text/plain": [
              "[<matplotlib.lines.Line2D at 0x7fa63db0db10>,\n",
              " <matplotlib.lines.Line2D at 0x7fa63db0dd10>]"
            ]
          },
          "metadata": {},
          "execution_count": 6
        },
        {
          "output_type": "display_data",
          "data": {
            "image/png": "[encoded data removed]",
            "text/plain": [
              "<Figure size 432x288 with 1 Axes>"
            ]
          },
          "metadata": {
            "needs_background": "light"
          }
        }
      ]
    },
    {
      "cell_type": "code",
      "metadata": {
        "colab": {
          "base_uri": "https://localhost:8080/"
        },
        "id": "fmKBtCVpvcDV",
        "outputId": "cc4450e6-00e2-4610-eae4-53c1aff6f64b"
      },
      "source": [
        "Y =df.drop(['Current(A)','Voltage(V)','Charge_Capacity(Ah)','Discharge_Capacity(Ah)','A','SOC%'], axis=1)\n",
        "Y = Y.dropna()\n",
        "print(Y)"
      ],
      "execution_count": null,
      "outputs": [
        {
          "output_type": "stream",
          "name": "stdout",
          "text": [
            "               SOC\n",
            "0     1.000000e+00\n",
            "1     1.000000e+00\n",
            "2     1.000000e+00\n",
            "3     1.000000e+00\n",
            "4     1.000000e+00\n",
            "...            ...\n",
            "7195 -1.862790e-07\n",
            "7196 -2.247090e-07\n",
            "7197 -2.635090e-07\n",
            "7198 -3.103430e-07\n",
            "7199 -3.318710e-07\n",
            "\n",
            "[7200 rows x 1 columns]\n"
          ]
        }
      ]
    },
    {
      "cell_type": "markdown",
      "metadata": {
        "id": "7Pi2HXD7H_hD"
      },
      "source": [
        "**Dataset Splitting into Training and Testing Data**"
      ]
    },
    {
      "cell_type": "code",
      "metadata": {
        "colab": {
          "base_uri": "https://localhost:8080/"
        },
        "id": "ktdISzP9vejf",
        "outputId": "0ee2d67e-8c1e-4e26-d86a-e8c6285e6e3d"
      },
      "source": [
        "from sklearn.model_selection import train_test_split\n",
        "train_Xn, test_Xn, train_Y, test_Y = train_test_split(Xn, Y,train_size=0.7,test_size=0.3)\n",
        "print(\"Labels for training and testing data\")\n",
        "print(train_Y)\n",
        "print(test_Y)\n",
        "print(train_Xn)\n",
        "print(test_Xn)"
      ],
      "execution_count": null,
      "outputs": [
        {
          "output_type": "stream",
          "name": "stdout",
          "text": [
            "Labels for training and testing data\n",
            "           SOC\n",
            "2588  0.543668\n",
            "6192  0.121135\n",
            "1792  0.630060\n",
            "4215  0.359443\n",
            "2898  0.504055\n",
            "...        ...\n",
            "6540  0.079216\n",
            "4830  0.283890\n",
            "2280  0.582064\n",
            "4944  0.267730\n",
            "3094  0.488675\n",
            "\n",
            "[5040 rows x 1 columns]\n",
            "           SOC\n",
            "846   0.750442\n",
            "272   0.879823\n",
            "263   0.896724\n",
            "4900  0.278391\n",
            "5534  0.201002\n",
            "...        ...\n",
            "1335  0.697061\n",
            "3631  0.420049\n",
            "5732  0.168019\n",
            "1127  0.714071\n",
            "6091  0.126013\n",
            "\n",
            "[2160 rows x 1 columns]\n",
            "             0         1\n",
            "2588  0.166627  0.172949\n",
            "6192  0.333373  0.280326\n",
            "1792  0.333373  0.348644\n",
            "4215  0.166687  0.143224\n",
            "2898  0.333373  0.324897\n",
            "...        ...       ...\n",
            "6540  0.000120 -0.040526\n",
            "4830  0.166687  0.133438\n",
            "2280  0.166687  0.181209\n",
            "4944 -0.499940 -0.509482\n",
            "3094  0.333373  0.321280\n",
            "\n",
            "[5040 rows x 2 columns]\n",
            "             0         1\n",
            "846   0.166687  0.220957\n",
            "272   0.000060  0.082840\n",
            "263   0.000120  0.087159\n",
            "4900  0.166627  0.134360\n",
            "5534  0.166687  0.126481\n",
            "...        ...       ...\n",
            "1335  0.166627  0.204905\n",
            "3631  0.333373  0.311633\n",
            "5732  0.333433  0.282928\n",
            "1127  0.333313  0.370577\n",
            "6091  0.333373  0.279908\n",
            "\n",
            "[2160 rows x 2 columns]\n"
          ]
        }
      ]
    },
    {
      "cell_type": "markdown",
      "metadata": {
        "id": "7C5FWwLpIMur"
      },
      "source": [
        "**Sigmoid Function**"
      ]
    },
    {
      "cell_type": "code",
      "metadata": {
        "id": "7LFEYzm_vmkd"
      },
      "source": [
        "# defining the Sigmoid Function\n",
        "def sigmoid (Xn):\n",
        "    return 1/(1 + np.exp(-Xn))\n",
        "\n",
        "# derivative of Sigmoid Function\n",
        "def derivatives_sigmoid(Xn):\n",
        "    return Xn * (1 - Xn)"
      ],
      "execution_count": null,
      "outputs": []
    },
    {
      "cell_type": "markdown",
      "metadata": {
        "id": "9b6o37LqIRtI"
      },
      "source": [
        "**Initialization of Parameters**"
      ]
    },
    {
      "cell_type": "code",
      "metadata": {
        "id": "gnU0bLWXvrXc"
      },
      "source": [
        "#Weights\n",
        "w0 = 2*np.random.random((2, 3)) - 1 #for input   - 2 inputs, 1 outputs\n",
        "w1 = 2*np.random.random((3, 3)) - 1 #for layer 1 - 2 inputs, 1 outputs\n",
        "w2 = 2*np.random.random((3, 1)) - 1 #for layer 2 - 2 inputs, 1 outputs\n",
        "#learning rate\n",
        "n = 0.1\n",
        "epoch = 500\n",
        "hiddenlayer_neurons = 3\n",
        "hiddenlayer = 2"
      ],
      "execution_count": null,
      "outputs": []
    },
    {
      "cell_type": "code",
      "metadata": {
        "id": "07tm2JgJvusH"
      },
      "source": [
        "errors = []"
      ],
      "execution_count": null,
      "outputs": []
    },
    {
      "cell_type": "markdown",
      "metadata": {
        "id": "JD_lFLxSIp6B"
      },
      "source": [
        "**Feed-Forward Backpropagation**"
      ]
    },
    {
      "cell_type": "code",
      "metadata": {
        "id": "bt_dA_3_v0K0"
      },
      "source": [
        "for i in range (epoch):\n",
        "\n",
        "    #Feed forward network\n",
        "    layer0 = train_Xn    #Input Layer\n",
        "    layer1 = sigmoid(np.dot(layer0, w0))  #Hidden Layer 1\n",
        "    layer2 = sigmoid(np.dot(layer1, w1))  #Hidden Layer 2\n",
        "    layer3 = sigmoid(np.dot(layer2, w2))  #Output Layer \n",
        "\n",
        "    #Back propagation using gradient descent\n",
        "    layer3_error = train_Y - layer3\n",
        "    layer3_delta = layer3_error * derivatives_sigmoid(layer3)\n",
        "\n",
        "    layer2_error = layer3_delta.dot (w2.T)\n",
        "    layer2_delta = layer2_error * derivatives_sigmoid(layer2)\n",
        "\n",
        "    layer1_error = layer2_delta.dot (w1.T)\n",
        "    layer1_delta = layer1_error * derivatives_sigmoid(layer1)\n",
        "\n",
        "    w2 += layer2.T.dot(layer3_delta) * n \n",
        "    w1 += layer1.T.dot(layer2_delta) * n\n",
        "    w0 += layer0.T.dot(layer1_delta) * n\n",
        "\n",
        "    error = np.mean(np.abs(layer3_error))\n",
        "    errors.append(error)"
      ],
      "execution_count": null,
      "outputs": []
    },
    {
      "cell_type": "markdown",
      "metadata": {
        "id": "MBVDAkkXJBn1"
      },
      "source": [
        "**Calculation of Accuracy of Training Model**"
      ]
    },
    {
      "cell_type": "code",
      "metadata": {
        "id": "qN1iFrFbv3Cv"
      },
      "source": [
        "accuracy_training = (1 - error) * 100"
      ],
      "execution_count": null,
      "outputs": []
    },
    {
      "cell_type": "code",
      "metadata": {
        "colab": {
          "base_uri": "https://localhost:8080/"
        },
        "id": "SOXl7qYGv-X_",
        "outputId": "9d9ea558-0fca-49a7-cf92-01cce0facc2c"
      },
      "source": [
        "print (\"Training Accuracy of the model   \" + str (round(accuracy_training,2)) + \"%\")"
      ],
      "execution_count": null,
      "outputs": [
        {
          "output_type": "stream",
          "name": "stdout",
          "text": [
            "Training Accuracy of the model   SOC    85.98\n",
            "dtype: float64%\n"
          ]
        }
      ]
    },
    {
      "cell_type": "markdown",
      "metadata": {
        "id": "M-NqEgTTJPns"
      },
      "source": [
        "**SOC Graph**"
      ]
    },
    {
      "cell_type": "code",
      "metadata": {
        "colab": {
          "base_uri": "https://localhost:8080/",
          "height": 279
        },
        "id": "ORG2E3xhv6qF",
        "outputId": "cf50afed-8c07-43fb-8ccd-d3d67982bfa6"
      },
      "source": [
        "plt.plot(errors)\n",
        "plt.xlabel('Training')\n",
        "plt.ylabel('Error')\n",
        "plt.show()"
      ],
      "execution_count": null,
      "outputs": [
        {
          "output_type": "display_data",
          "data": {
            "image/png": "[encoded data removed]",
            "text/plain": [
              "<Figure size 432x288 with 1 Axes>"
            ]
          },
          "metadata": {
            "needs_background": "light"
          }
        }
      ]
    },
    {
      "cell_type": "markdown",
      "metadata": {
        "id": "e5Au3E7zJVLl"
      },
      "source": [
        "**Mean Square Error Calculation**"
      ]
    },
    {
      "cell_type": "code",
      "metadata": {
        "colab": {
          "base_uri": "https://localhost:8080/"
        },
        "id": "jslloljawBlt",
        "outputId": "292a4439-9f6a-476c-d238-8e2cffd22989"
      },
      "source": [
        "MSE = np.mean((train_Y - layer3)**2) # Mean Squared Error\n",
        "print(MSE)\n",
        "errors.append(MSE)"
      ],
      "execution_count": null,
      "outputs": [
        {
          "output_type": "stream",
          "name": "stdout",
          "text": [
            "SOC    0.031164\n",
            "dtype: float64\n"
          ]
        }
      ]
    },
    {
      "cell_type": "code",
      "metadata": {
        "colab": {
          "base_uri": "https://localhost:8080/"
        },
        "id": "ARngKW_9xr7Z",
        "outputId": "c79ca90e-324d-45a2-cf95-3f826f3bb411"
      },
      "source": [
        "from sklearn.metrics import mean_squared_error\n",
        "mean_squared_error(train_Y,layer3)"
      ],
      "execution_count": null,
      "outputs": [
        {
          "output_type": "execute_result",
          "data": {
            "text/plain": [
              "0.031163649383460546"
            ]
          },
          "metadata": {},
          "execution_count": 106
        }
      ]
    },
    {
      "cell_type": "markdown",
      "metadata": {
        "id": "Nih_r-0EJfQe"
      },
      "source": [
        "**Absolute Error Calculation**"
      ]
    },
    {
      "cell_type": "code",
      "metadata": {
        "colab": {
          "base_uri": "https://localhost:8080/"
        },
        "id": "LwkDpdXxAsiz",
        "outputId": "f01f81df-03a7-4207-8ff8-d6cbbd390867"
      },
      "source": [
        "print(error) # Absolute Error Value"
      ],
      "execution_count": null,
      "outputs": [
        {
          "output_type": "stream",
          "name": "stdout",
          "text": [
            "SOC    0.140206\n",
            "dtype: float64\n"
          ]
        }
      ]
    },
    {
      "cell_type": "code",
      "metadata": {
        "colab": {
          "base_uri": "https://localhost:8080/",
          "height": 279
        },
        "id": "AyKWf4RfBA61",
        "outputId": "32084c23-420c-4b6f-f1ec-c6344b4ecfee"
      },
      "source": [
        "plt.plot(errors)\n",
        "plt.xlabel('Training')\n",
        "plt.ylabel('MSE')# SOC \n",
        "plt.show()"
      ],
      "execution_count": null,
      "outputs": [
        {
          "output_type": "display_data",
          "data": {
            "image/png": "[encoded data removed]",
            "text/plain": [
              "<Figure size 432x288 with 1 Axes>"
            ]
          },
          "metadata": {
            "needs_background": "light"
          }
        }
      ]
    },
    {
      "cell_type": "markdown",
      "metadata": {
        "id": "xoy1zVxRJpqM"
      },
      "source": [
        "**Linear Regression**"
      ]
    },
    {
      "cell_type": "code",
      "metadata": {
        "id": "rw8kv2tWG0zV"
      },
      "source": [
        "from sklearn.linear_model import LinearRegression\n",
        "linear_regressor = LinearRegression()\n",
        "linear_regressor.fit(train_Y,layer3)\n",
        "layer2n = linear_regressor.predict(train_Y)"
      ],
      "execution_count": null,
      "outputs": []
    },
    {
      "cell_type": "code",
      "metadata": {
        "colab": {
          "base_uri": "https://localhost:8080/",
          "height": 265
        },
        "id": "bi1LFdX7G5Al",
        "outputId": "c708c3a2-1edd-4c2c-ceb8-3f5550672d45"
      },
      "source": [
        "plt.scatter(train_Y,layer2n)\n",
        "plt.plot(train_Y, layer2n, color='red')\n",
        "plt.show()"
      ],
      "execution_count": null,
      "outputs": [
        {
          "output_type": "display_data",
          "data": {
            "image/png": "[encoded data removed]",
            "text/plain": [
              "<Figure size 432x288 with 1 Axes>"
            ]
          },
          "metadata": {
            "needs_background": "light"
          }
        }
      ]
    },
    {
      "cell_type": "markdown",
      "metadata": {
        "id": "ze2k8a61Jxdz"
      },
      "source": [
        "**Testing Part**"
      ]
    },
    {
      "cell_type": "code",
      "metadata": {
        "id": "Ff2ZEL0zR1BP"
      },
      "source": [
        "#Testing\n",
        "layer0t = test_Xn\n",
        "\n",
        "layer1t = sigmoid(np.dot(layer0t, w0))\n",
        "layer2t = sigmoid(np.dot(layer1t, w1))\n",
        "layer3t = sigmoid(np.dot(layer2t, w2))\n",
        "\n",
        "layer3t_error = test_Y - layer3t\n",
        "error = np.mean(np.abs(layer3t_error))\n",
        "errors.append(error)"
      ],
      "execution_count": null,
      "outputs": []
    },
    {
      "cell_type": "markdown",
      "metadata": {
        "id": "4jprAAzjJ4Yz"
      },
      "source": [
        "**Testing Accuracy Calculation**"
      ]
    },
    {
      "cell_type": "code",
      "metadata": {
        "id": "yme5DifrR9Ed"
      },
      "source": [
        "accuracy_testing = (1 - error) * 100"
      ],
      "execution_count": null,
      "outputs": []
    },
    {
      "cell_type": "code",
      "metadata": {
        "colab": {
          "base_uri": "https://localhost:8080/"
        },
        "id": "OV9rBvnuSD2U",
        "outputId": "9ce1793b-5e62-43f7-a927-807cf38442c3"
      },
      "source": [
        "print (\"Testing Accuracy of the model   \" + str (round(accuracy_testing,2)) + \"%\")"
      ],
      "execution_count": null,
      "outputs": [
        {
          "output_type": "stream",
          "name": "stdout",
          "text": [
            "Testing Accuracy of the model   SOC    87.26\n",
            "dtype: float64%\n"
          ]
        }
      ]
    },
    {
      "cell_type": "markdown",
      "metadata": {
        "id": "nWLFWj5tKEyb"
      },
      "source": [
        "**SOC error Graph**"
      ]
    },
    {
      "cell_type": "code",
      "metadata": {
        "colab": {
          "base_uri": "https://localhost:8080/",
          "height": 279
        },
        "id": "clKeWh_AS7dg",
        "outputId": "053e540d-2160-41d5-d214-01fe6b934781"
      },
      "source": [
        "plt.plot(errors)\n",
        "plt.xlabel('Testing')\n",
        "plt.ylabel('Error')\n",
        "plt.show()"
      ],
      "execution_count": null,
      "outputs": [
        {
          "output_type": "display_data",
          "data": {
            "image/png": "[encoded data removed]",
            "text/plain": [
              "<Figure size 432x288 with 1 Axes>"
            ]
          },
          "metadata": {
            "needs_background": "light"
          }
        }
      ]
    },
    {
      "cell_type": "markdown",
      "metadata": {
        "id": "ftDBz4veKLT7"
      },
      "source": [
        "**Mean Square Error**"
      ]
    },
    {
      "cell_type": "code",
      "metadata": {
        "colab": {
          "base_uri": "https://localhost:8080/"
        },
        "id": "hMgcVuPnTQkp",
        "outputId": "84fb0738-4fd3-41a2-e96b-581444c96148"
      },
      "source": [
        "MSE_T = np.mean((test_Y - layer3t)**2) # Mean Squared Error\n",
        "print(MSE_T)\n",
        "errors.append(MSE_T)"
      ],
      "execution_count": null,
      "outputs": [
        {
          "output_type": "stream",
          "name": "stdout",
          "text": [
            "SOC    0.027763\n",
            "dtype: float64\n"
          ]
        }
      ]
    },
    {
      "cell_type": "code",
      "metadata": {
        "colab": {
          "base_uri": "https://localhost:8080/"
        },
        "id": "oEh_WtSlTXOt",
        "outputId": "5155a1aa-b36a-4e54-b088-3aaafd5319ae"
      },
      "source": [
        "from sklearn.metrics import mean_squared_error\n",
        "mean_squared_error(test_Y,layer3t)"
      ],
      "execution_count": null,
      "outputs": [
        {
          "output_type": "execute_result",
          "data": {
            "text/plain": [
              "0.02776253530641641"
            ]
          },
          "metadata": {},
          "execution_count": 116
        }
      ]
    },
    {
      "cell_type": "markdown",
      "metadata": {
        "id": "Pwi0wvySKQbG"
      },
      "source": [
        "**Mean Absolute Error**"
      ]
    },
    {
      "cell_type": "code",
      "metadata": {
        "colab": {
          "base_uri": "https://localhost:8080/"
        },
        "id": "-GnNCO-5Tq65",
        "outputId": "979e46c2-f439-4141-a00d-2ccec7ca755d"
      },
      "source": [
        "print(error) # Absolute Error Value"
      ],
      "execution_count": null,
      "outputs": [
        {
          "output_type": "stream",
          "name": "stdout",
          "text": [
            "SOC    0.127418\n",
            "dtype: float64\n"
          ]
        }
      ]
    },
    {
      "cell_type": "code",
      "metadata": {
        "colab": {
          "base_uri": "https://localhost:8080/",
          "height": 279
        },
        "id": "rXQEZLs1TxRR",
        "outputId": "e01ffbc9-426c-4344-bf6a-0af1bab595d1"
      },
      "source": [
        "plt.plot(errors)\n",
        "plt.xlabel('Testing')\n",
        "plt.ylabel('MSE_T')# SOC \n",
        "plt.show()"
      ],
      "execution_count": null,
      "outputs": [
        {
          "output_type": "display_data",
          "data": {
            "image/png": "[encoded data removed]",
            "text/plain": [
              "<Figure size 432x288 with 1 Axes>"
            ]
          },
          "metadata": {
            "needs_background": "light"
          }
        }
      ]
    }
  ]
}