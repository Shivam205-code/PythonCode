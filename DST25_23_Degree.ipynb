{
  "nbformat": 4,
  "nbformat_minor": 0,
  "metadata": {
    "colab": {
      "name": "DST25_23_Degree.ipynb",
      "provenance": [],
      "collapsed_sections": []
    },
    "kernelspec": {
      "name": "python3",
      "display_name": "Python 3"
    },
    "language_info": {
      "name": "python"
    }
  },
  "cells": [
    {
      "cell_type": "markdown",
      "metadata": {
        "id": "hlnau9IuG--l"
      },
      "source": [
        "**Importing Python Libraries**"
      ]
    },
    {
      "cell_type": "code",
      "metadata": {
        "id": "fQCx6r43P0D4"
      },
      "source": [
        "import numpy as np\n",
        "from scipy import signal\n",
        "import pandas as pd\n",
        "import matplotlib.pyplot as plt\n",
        "import random as rn\n",
        "import math"
      ],
      "execution_count": null,
      "outputs": []
    },
    {
      "cell_type": "markdown",
      "metadata": {
        "id": "AEo9v_rKHYCV"
      },
      "source": [
        "**Data Importing**"
      ]
    },
    {
      "cell_type": "code",
      "metadata": {
        "colab": {
          "base_uri": "https://localhost:8080/",
          "height": 203
        },
        "id": "GATpeR3PP7TS",
        "outputId": "74d03976-2224-4ab9-a185-11fdb5f22615"
      },
      "source": [
        "df = pd.read_csv('DST25.csv')\n",
        "df.head()"
      ],
      "execution_count": null,
      "outputs": [
        {
          "output_type": "execute_result",
          "data": {
            "text/html": [
              "<div>\n",
              "<style scoped>\n",
              "    .dataframe tbody tr th:only-of-type {\n",
              "        vertical-align: middle;\n",
              "    }\n",
              "\n",
              "    .dataframe tbody tr th {\n",
              "        vertical-align: top;\n",
              "    }\n",
              "\n",
              "    .dataframe thead th {\n",
              "        text-align: right;\n",
              "    }\n",
              "</style>\n",
              "<table border=\"1\" class=\"dataframe\">\n",
              "  <thead>\n",
              "    <tr style=\"text-align: right;\">\n",
              "      <th></th>\n",
              "      <th>Current(A)</th>\n",
              "      <th>Voltage(V)</th>\n",
              "      <th>Charge_Capacity(Ah)</th>\n",
              "      <th>Discharge_Capacity(Ah)</th>\n",
              "      <th>A</th>\n",
              "      <th>SOC</th>\n",
              "      <th>SOC%</th>\n",
              "    </tr>\n",
              "  </thead>\n",
              "  <tbody>\n",
              "    <tr>\n",
              "      <th>0</th>\n",
              "      <td>0.000000</td>\n",
              "      <td>3.938208</td>\n",
              "      <td>0.000000</td>\n",
              "      <td>0.0</td>\n",
              "      <td>0.0</td>\n",
              "      <td>1.0</td>\n",
              "      <td>100.0</td>\n",
              "    </tr>\n",
              "    <tr>\n",
              "      <th>1</th>\n",
              "      <td>0.999834</td>\n",
              "      <td>4.020122</td>\n",
              "      <td>0.002777</td>\n",
              "      <td>0.0</td>\n",
              "      <td>0.0</td>\n",
              "      <td>1.0</td>\n",
              "      <td>100.0</td>\n",
              "    </tr>\n",
              "    <tr>\n",
              "      <th>2</th>\n",
              "      <td>0.999834</td>\n",
              "      <td>4.025464</td>\n",
              "      <td>0.005555</td>\n",
              "      <td>0.0</td>\n",
              "      <td>0.0</td>\n",
              "      <td>1.0</td>\n",
              "      <td>100.0</td>\n",
              "    </tr>\n",
              "    <tr>\n",
              "      <th>3</th>\n",
              "      <td>1.000014</td>\n",
              "      <td>4.029349</td>\n",
              "      <td>0.008337</td>\n",
              "      <td>0.0</td>\n",
              "      <td>0.0</td>\n",
              "      <td>1.0</td>\n",
              "      <td>100.0</td>\n",
              "    </tr>\n",
              "    <tr>\n",
              "      <th>4</th>\n",
              "      <td>0.999834</td>\n",
              "      <td>4.032263</td>\n",
              "      <td>0.011118</td>\n",
              "      <td>0.0</td>\n",
              "      <td>0.0</td>\n",
              "      <td>1.0</td>\n",
              "      <td>100.0</td>\n",
              "    </tr>\n",
              "  </tbody>\n",
              "</table>\n",
              "</div>"
            ],
            "text/plain": [
              "   Current(A)  Voltage(V)  Charge_Capacity(Ah)  ...    A  SOC   SOC%\n",
              "0    0.000000    3.938208             0.000000  ...  0.0  1.0  100.0\n",
              "1    0.999834    4.020122             0.002777  ...  0.0  1.0  100.0\n",
              "2    0.999834    4.025464             0.005555  ...  0.0  1.0  100.0\n",
              "3    1.000014    4.029349             0.008337  ...  0.0  1.0  100.0\n",
              "4    0.999834    4.032263             0.011118  ...  0.0  1.0  100.0\n",
              "\n",
              "[5 rows x 7 columns]"
            ]
          },
          "metadata": {},
          "execution_count": 51
        }
      ]
    },
    {
      "cell_type": "code",
      "metadata": {
        "colab": {
          "base_uri": "https://localhost:8080/"
        },
        "id": "cdJQNoFFQOJL",
        "outputId": "93f984e1-bdc1-4149-90c5-110c105eb489"
      },
      "source": [
        "X =df.drop(['Charge_Capacity(Ah)','Discharge_Capacity(Ah)', 'A', 'SOC', 'SOC%'], axis=1)\n",
        "X = X.dropna()\n",
        "print(X)"
      ],
      "execution_count": null,
      "outputs": [
        {
          "output_type": "stream",
          "name": "stdout",
          "text": [
            "      Current(A)  Voltage(V)\n",
            "0       0.000000    3.938208\n",
            "1       0.999834    4.020122\n",
            "2       0.999834    4.025464\n",
            "3       1.000014    4.029349\n",
            "4       0.999834    4.032263\n",
            "...          ...         ...\n",
            "7195   -2.499652    3.411270\n",
            "7196    0.999834    3.663326\n",
            "7197    0.999653    3.667049\n",
            "7198    0.999834    3.670125\n",
            "7199    1.000014    3.672877\n",
            "\n",
            "[7200 rows x 2 columns]\n"
          ]
        }
      ]
    },
    {
      "cell_type": "markdown",
      "metadata": {
        "id": "rm7D3YkHHhUq"
      },
      "source": [
        "**Moving Average Filter for Input Quantities**"
      ]
    },
    {
      "cell_type": "code",
      "metadata": {
        "colab": {
          "base_uri": "https://localhost:8080/"
        },
        "id": "PrLVWs5mR2_L",
        "outputId": "d3af6e0a-0db3-4aa5-8839-ad8893f617bb"
      },
      "source": [
        "L=7200 #L-point filter\n",
        "b = (np.ones(L))/L #numerator co-effs of filter transfer function\n",
        "a = 1  #denominator co-effs of filter transfer function\n",
        "Xf = signal.lfilter(b,a,X) #filter output using lfilter function\n",
        "print(Xf)"
      ],
      "execution_count": null,
      "outputs": [
        {
          "output_type": "stream",
          "name": "stdout",
          "text": [
            "[[0.         0.00054697]\n",
            " [0.00013887 0.00069722]\n",
            " [0.00013887 0.00069796]\n",
            " ...\n",
            " [0.00013884 0.00064815]\n",
            " [0.00013887 0.00064861]\n",
            " [0.00013889 0.00064901]]\n"
          ]
        }
      ]
    },
    {
      "cell_type": "code",
      "metadata": {
        "colab": {
          "base_uri": "https://localhost:8080/",
          "height": 534
        },
        "id": "iW-ecsOOSDQr",
        "outputId": "0c7074a1-eea2-4f0e-93a1-860301c674ed"
      },
      "source": [
        "Xf1 = pd.DataFrame(Xf)\n",
        "print(Xf1)\n",
        "plt.plot(Xf1)"
      ],
      "execution_count": null,
      "outputs": [
        {
          "output_type": "stream",
          "name": "stdout",
          "text": [
            "             0         1\n",
            "0     0.000000  0.000547\n",
            "1     0.000139  0.000697\n",
            "2     0.000139  0.000698\n",
            "3     0.000139  0.000699\n",
            "4     0.000139  0.000699\n",
            "...        ...       ...\n",
            "7195 -0.000347  0.000127\n",
            "7196  0.000139  0.000648\n",
            "7197  0.000139  0.000648\n",
            "7198  0.000139  0.000649\n",
            "7199  0.000139  0.000649\n",
            "\n",
            "[7200 rows x 2 columns]\n"
          ]
        },
        {
          "output_type": "execute_result",
          "data": {
            "text/plain": [
              "[<matplotlib.lines.Line2D at 0x7f9d50e08250>,\n",
              " <matplotlib.lines.Line2D at 0x7f9d50e08450>]"
            ]
          },
          "metadata": {},
          "execution_count": 54
        },
        {
          "output_type": "display_data",
          "data": {
            "image/png": "[encoded data removed]",
            "text/plain": [
              "<Figure size 432x288 with 1 Axes>"
            ]
          },
          "metadata": {
            "needs_background": "light"
          }
        }
      ]
    },
    {
      "cell_type": "markdown",
      "metadata": {
        "id": "KlC2_e1JH1Wk"
      },
      "source": [
        "**Data Normalization**"
      ]
    },
    {
      "cell_type": "code",
      "metadata": {
        "colab": {
          "base_uri": "https://localhost:8080/",
          "height": 534
        },
        "id": "KN02oYQFvTae",
        "outputId": "361e92ea-5f61-4011-fbfd-ce953ea86696"
      },
      "source": [
        "df_min_max_scaled = Xf1.copy()  \n",
        "# apply normalization techniques\n",
        "for column in df_min_max_scaled.columns:\n",
        "    df_min_max_scaled[column] = -1 + 2*(df_min_max_scaled[column] - df_min_max_scaled[column].min()) / (df_min_max_scaled[column].max() - df_min_max_scaled[column].min())    \n",
        "    Xn = df_min_max_scaled.copy()\n",
        "# view normalized data\n",
        "print(Xn)\n",
        "plt.plot(Xn)"
      ],
      "execution_count": null,
      "outputs": [
        {
          "output_type": "stream",
          "name": "stdout",
          "text": [
            "             0         1\n",
            "0     0.333360  0.371966\n",
            "1     0.666526  0.692915\n",
            "2     0.666526  0.694500\n",
            "3     0.666586  0.695706\n",
            "4     0.666526  0.696517\n",
            "...        ...       ...\n",
            "7195 -0.499579 -0.526007\n",
            "7196  0.666526  0.587056\n",
            "7197  0.666466  0.588107\n",
            "7198  0.666526  0.589073\n",
            "7199  0.666586  0.589943\n",
            "\n",
            "[7200 rows x 2 columns]\n"
          ]
        },
        {
          "output_type": "execute_result",
          "data": {
            "text/plain": [
              "[<matplotlib.lines.Line2D at 0x7f9d50d7bcd0>,\n",
              " <matplotlib.lines.Line2D at 0x7f9d50d7bed0>]"
            ]
          },
          "metadata": {},
          "execution_count": 55
        },
        {
          "output_type": "display_data",
          "data": {
            "image/png": "[encoded data removed]",
            "text/plain": [
              "<Figure size 432x288 with 1 Axes>"
            ]
          },
          "metadata": {
            "needs_background": "light"
          }
        }
      ]
    },
    {
      "cell_type": "code",
      "metadata": {
        "colab": {
          "base_uri": "https://localhost:8080/"
        },
        "id": "fmKBtCVpvcDV",
        "outputId": "566d5c13-e38b-4ae3-ec6e-c425e98951d2"
      },
      "source": [
        "Y =df.drop(['Current(A)','Voltage(V)','Charge_Capacity(Ah)','Discharge_Capacity(Ah)','A','SOC%'], axis=1)\n",
        "Y = Y.dropna()\n",
        "print(Y)"
      ],
      "execution_count": null,
      "outputs": [
        {
          "output_type": "stream",
          "name": "stdout",
          "text": [
            "               SOC\n",
            "0     1.000000e+00\n",
            "1     1.000000e+00\n",
            "2     1.000000e+00\n",
            "3     1.000000e+00\n",
            "4     1.000000e+00\n",
            "...            ...\n",
            "7195  1.823860e-04\n",
            "7196 -2.220460e-07\n",
            "7197 -2.220460e-07\n",
            "7198 -2.220460e-07\n",
            "7199 -2.220460e-07\n",
            "\n",
            "[7200 rows x 1 columns]\n"
          ]
        }
      ]
    },
    {
      "cell_type": "markdown",
      "metadata": {
        "id": "7Pi2HXD7H_hD"
      },
      "source": [
        "**Dataset Splitting into Training and Testing Data**"
      ]
    },
    {
      "cell_type": "code",
      "metadata": {
        "colab": {
          "base_uri": "https://localhost:8080/"
        },
        "id": "ktdISzP9vejf",
        "outputId": "bce064ca-9560-460c-ad61-72651a74339e"
      },
      "source": [
        "from sklearn.model_selection import train_test_split\n",
        "train_Xn, test_Xn, train_Y, test_Y = train_test_split(Xn, Y,train_size=0.7,test_size=0.3)\n",
        "print(\"Labels for training and testing data\")\n",
        "print(train_Y)\n",
        "print(test_Y)\n",
        "print(train_Xn)\n",
        "print(test_Xn)"
      ],
      "execution_count": null,
      "outputs": [
        {
          "output_type": "stream",
          "name": "stdout",
          "text": [
            "Labels for training and testing data\n",
            "           SOC\n",
            "3408  0.504586\n",
            "306   1.000000\n",
            "1895  0.697937\n",
            "7065  0.028550\n",
            "2564  0.608010\n",
            "...        ...\n",
            "5353  0.256484\n",
            "3199  0.539060\n",
            "5144  0.275169\n",
            "997   1.000000\n",
            "4440  0.368890\n",
            "\n",
            "[5040 rows x 1 columns]\n",
            "           SOC\n",
            "5006  0.302281\n",
            "1779  0.697937\n",
            "6120  0.141634\n",
            "6631  0.081854\n",
            "2006  0.691339\n",
            "...        ...\n",
            "75    1.000000\n",
            "6396  0.117077\n",
            "4033  0.416097\n",
            "3928  0.443756\n",
            "949   1.000000\n",
            "\n",
            "[2160 rows x 1 columns]\n",
            "             0         1\n",
            "3408  0.500060  0.495225\n",
            "306   0.342802  0.457991\n",
            "1895  0.333360  0.376481\n",
            "7065  0.166707  0.119787\n",
            "2564  0.000120  0.030011\n",
            "...        ...       ...\n",
            "5353  0.166767  0.139293\n",
            "3199  0.166707  0.184052\n",
            "5144  0.333353  0.301884\n",
            "997   0.333360  0.447662\n",
            "4440  0.166767  0.155383\n",
            "\n",
            "[5040 rows x 2 columns]\n",
            "             0         1\n",
            "5006  0.166827  0.144534\n",
            "1779  0.333360  0.376433\n",
            "6120 -0.499639 -0.515638\n",
            "6631  0.500120  0.442589\n",
            "2006  0.166767  0.213452\n",
            "...        ...       ...\n",
            "75    0.666526  0.732252\n",
            "6396  0.500120  0.444750\n",
            "4033  0.333353  0.320856\n",
            "3928  0.166827  0.166580\n",
            "949   0.333360  0.447759\n",
            "\n",
            "[2160 rows x 2 columns]\n"
          ]
        }
      ]
    },
    {
      "cell_type": "markdown",
      "metadata": {
        "id": "7C5FWwLpIMur"
      },
      "source": [
        "**Sigmoid Function**"
      ]
    },
    {
      "cell_type": "code",
      "metadata": {
        "id": "7LFEYzm_vmkd"
      },
      "source": [
        "# defining the Sigmoid Function\n",
        "def sigmoid (Xn):\n",
        "    return 1/(1 + np.exp(-Xn))\n",
        "\n",
        "# derivative of Sigmoid Function\n",
        "def derivatives_sigmoid(Xn):\n",
        "    return Xn * (1 - Xn)"
      ],
      "execution_count": null,
      "outputs": []
    },
    {
      "cell_type": "markdown",
      "metadata": {
        "id": "9b6o37LqIRtI"
      },
      "source": [
        "**Initialization of Parameters**"
      ]
    },
    {
      "cell_type": "code",
      "metadata": {
        "id": "gnU0bLWXvrXc"
      },
      "source": [
        "#Weights\n",
        "w0 = 2*np.random.random((2, 3)) - 1 #for input   - 2 inputs, 1 outputs\n",
        "w1 = 2*np.random.random((3, 3)) - 1 #for layer 1 - 2 inputs, 1 outputs\n",
        "w2 = 2*np.random.random((3, 1)) - 1 #for layer 2 - 2 inputs, 1 outputs\n",
        "#learning rate\n",
        "n = 0.1\n",
        "epoch = 500\n",
        "hiddenlayer_neurons = 3\n",
        "hiddenlayer = 2"
      ],
      "execution_count": null,
      "outputs": []
    },
    {
      "cell_type": "code",
      "metadata": {
        "id": "07tm2JgJvusH"
      },
      "source": [
        "errors = []"
      ],
      "execution_count": null,
      "outputs": []
    },
    {
      "cell_type": "markdown",
      "metadata": {
        "id": "JD_lFLxSIp6B"
      },
      "source": [
        "**Feed-Forward Backpropagation**"
      ]
    },
    {
      "cell_type": "code",
      "metadata": {
        "id": "bt_dA_3_v0K0"
      },
      "source": [
        "for i in range (epoch):\n",
        "\n",
        "    #Feed forward network\n",
        "    layer0 = train_Xn    #Input Layer\n",
        "    layer1 = sigmoid(np.dot(layer0, w0))  #Hidden Layer 1\n",
        "    layer2 = sigmoid(np.dot(layer1, w1))  #Hidden Layer 2\n",
        "    layer3 = sigmoid(np.dot(layer2, w2))  #Output Layer \n",
        "\n",
        "    #Back propagation using gradient descent\n",
        "    layer3_error = train_Y - layer3\n",
        "    layer3_delta = layer3_error * derivatives_sigmoid(layer3)\n",
        "\n",
        "    layer2_error = layer3_delta.dot (w2.T)\n",
        "    layer2_delta = layer2_error * derivatives_sigmoid(layer2)\n",
        "\n",
        "    layer1_error = layer2_delta.dot (w1.T)\n",
        "    layer1_delta = layer1_error * derivatives_sigmoid(layer1)\n",
        "\n",
        "    w2 += layer2.T.dot(layer3_delta) * n \n",
        "    w1 += layer1.T.dot(layer2_delta) * n\n",
        "    w0 += layer0.T.dot(layer1_delta) * n\n",
        "\n",
        "    error = np.mean(np.abs(layer3_error))\n",
        "    errors.append(error)"
      ],
      "execution_count": null,
      "outputs": []
    },
    {
      "cell_type": "markdown",
      "metadata": {
        "id": "MBVDAkkXJBn1"
      },
      "source": [
        "**Calculation of Accuracy of Training Model**"
      ]
    },
    {
      "cell_type": "code",
      "metadata": {
        "id": "qN1iFrFbv3Cv"
      },
      "source": [
        "accuracy_training = (1 - error) * 100"
      ],
      "execution_count": null,
      "outputs": []
    },
    {
      "cell_type": "code",
      "metadata": {
        "colab": {
          "base_uri": "https://localhost:8080/"
        },
        "id": "SOXl7qYGv-X_",
        "outputId": "16f4477f-6a48-4e97-8064-ab8fac849ac1"
      },
      "source": [
        "print (\"Training Accuracy of the model   \" + str (round(accuracy_training,2)) + \"%\")"
      ],
      "execution_count": null,
      "outputs": [
        {
          "output_type": "stream",
          "name": "stdout",
          "text": [
            "Training Accuracy of the model   SOC    85.59\n",
            "dtype: float64%\n"
          ]
        }
      ]
    },
    {
      "cell_type": "markdown",
      "metadata": {
        "id": "M-NqEgTTJPns"
      },
      "source": [
        "**SOC Graph**"
      ]
    },
    {
      "cell_type": "code",
      "metadata": {
        "colab": {
          "base_uri": "https://localhost:8080/",
          "height": 283
        },
        "id": "ORG2E3xhv6qF",
        "outputId": "b53ab1f6-cc0f-4b5f-c14a-7ba3fc8807bb"
      },
      "source": [
        "plt.plot(errors)\n",
        "plt.xlabel('Training')\n",
        "plt.ylabel('Error')\n",
        "plt.show()"
      ],
      "execution_count": null,
      "outputs": [
        {
          "output_type": "display_data",
          "data": {
            "image/png": "[encoded data removed]",
            "text/plain": [
              "<Figure size 432x288 with 1 Axes>"
            ]
          },
          "metadata": {
            "needs_background": "light"
          }
        }
      ]
    },
    {
      "cell_type": "markdown",
      "metadata": {
        "id": "e5Au3E7zJVLl"
      },
      "source": [
        "**Mean Square Error Calculation**"
      ]
    },
    {
      "cell_type": "code",
      "metadata": {
        "colab": {
          "base_uri": "https://localhost:8080/"
        },
        "id": "jslloljawBlt",
        "outputId": "ef943bd8-9049-4388-d522-e78662d47918"
      },
      "source": [
        "MSE = np.mean((train_Y - layer3)**2) # Mean Squared Error\n",
        "print(MSE)\n",
        "errors.append(MSE)"
      ],
      "execution_count": null,
      "outputs": [
        {
          "output_type": "stream",
          "name": "stdout",
          "text": [
            "SOC    0.042941\n",
            "dtype: float64\n"
          ]
        }
      ]
    },
    {
      "cell_type": "code",
      "metadata": {
        "colab": {
          "base_uri": "https://localhost:8080/"
        },
        "id": "ARngKW_9xr7Z",
        "outputId": "650c7b23-901f-4d27-e8a1-6be7bb7dc8bf"
      },
      "source": [
        "from sklearn.metrics import mean_squared_error\n",
        "mean_squared_error(train_Y,layer3)"
      ],
      "execution_count": null,
      "outputs": [
        {
          "output_type": "execute_result",
          "data": {
            "text/plain": [
              "0.04294094921504672"
            ]
          },
          "metadata": {},
          "execution_count": 85
        }
      ]
    },
    {
      "cell_type": "markdown",
      "metadata": {
        "id": "Nih_r-0EJfQe"
      },
      "source": [
        "**Absolute Error Calculation**"
      ]
    },
    {
      "cell_type": "code",
      "metadata": {
        "colab": {
          "base_uri": "https://localhost:8080/"
        },
        "id": "LwkDpdXxAsiz",
        "outputId": "3221d92e-abb1-4f9a-85f7-fca69e19dc4b"
      },
      "source": [
        "print(error) # Absolute Error Value"
      ],
      "execution_count": null,
      "outputs": [
        {
          "output_type": "stream",
          "name": "stdout",
          "text": [
            "SOC    0.144114\n",
            "dtype: float64\n"
          ]
        }
      ]
    },
    {
      "cell_type": "code",
      "metadata": {
        "colab": {
          "base_uri": "https://localhost:8080/",
          "height": 280
        },
        "id": "AyKWf4RfBA61",
        "outputId": "6254ead5-fb65-4062-ca15-f3845404acf5"
      },
      "source": [
        "plt.plot(errors)\n",
        "plt.xlabel('Training')\n",
        "plt.ylabel('MSE')# SOC \n",
        "plt.show()"
      ],
      "execution_count": null,
      "outputs": [
        {
          "output_type": "display_data",
          "data": {
            "image/png": "[encoded data removed]",
            "text/plain": [
              "<Figure size 432x288 with 1 Axes>"
            ]
          },
          "metadata": {
            "needs_background": "light"
          }
        }
      ]
    },
    {
      "cell_type": "markdown",
      "metadata": {
        "id": "xoy1zVxRJpqM"
      },
      "source": [
        "**Linear Regression**"
      ]
    },
    {
      "cell_type": "code",
      "metadata": {
        "id": "rw8kv2tWG0zV"
      },
      "source": [
        "from sklearn.linear_model import LinearRegression\n",
        "linear_regressor = LinearRegression()\n",
        "linear_regressor.fit(train_Y,layer3)\n",
        "layer2n = linear_regressor.predict(train_Y)"
      ],
      "execution_count": null,
      "outputs": []
    },
    {
      "cell_type": "code",
      "metadata": {
        "colab": {
          "base_uri": "https://localhost:8080/",
          "height": 265
        },
        "id": "bi1LFdX7G5Al",
        "outputId": "630b59c5-69c4-4f1e-e011-8e68a2f92732"
      },
      "source": [
        "plt.scatter(train_Y,layer2n)\n",
        "plt.plot(train_Y, layer2n, color='red')\n",
        "plt.show()"
      ],
      "execution_count": null,
      "outputs": [
        {
          "output_type": "display_data",
          "data": {
            "image/png": "[encoded data removed]",
            "text/plain": [
              "<Figure size 432x288 with 1 Axes>"
            ]
          },
          "metadata": {
            "needs_background": "light"
          }
        }
      ]
    },
    {
      "cell_type": "markdown",
      "metadata": {
        "id": "ze2k8a61Jxdz"
      },
      "source": [
        "**Testing Part**"
      ]
    },
    {
      "cell_type": "code",
      "metadata": {
        "id": "Ff2ZEL0zR1BP"
      },
      "source": [
        "#Testing\n",
        "layer0t = test_Xn\n",
        "\n",
        "layer1t = sigmoid(np.dot(layer0t, w0))\n",
        "layer2t = sigmoid(np.dot(layer1t, w1))\n",
        "layer3t = sigmoid(np.dot(layer2t, w2))\n",
        "\n",
        "layer3t_error = test_Y - layer3t\n",
        "error = np.mean(np.abs(layer3t_error))\n",
        "errors.append(error)"
      ],
      "execution_count": null,
      "outputs": []
    },
    {
      "cell_type": "markdown",
      "metadata": {
        "id": "4jprAAzjJ4Yz"
      },
      "source": [
        "**Testing Accuracy Calculation**"
      ]
    },
    {
      "cell_type": "code",
      "metadata": {
        "id": "yme5DifrR9Ed"
      },
      "source": [
        "accuracy_testing = (1 - error) * 100"
      ],
      "execution_count": null,
      "outputs": []
    },
    {
      "cell_type": "code",
      "metadata": {
        "colab": {
          "base_uri": "https://localhost:8080/"
        },
        "id": "OV9rBvnuSD2U",
        "outputId": "e6fb03a3-ada6-4f95-8b58-bf346c4b7504"
      },
      "source": [
        "print (\"Testing Accuracy of the model   \" + str (round(accuracy_testing,2)) + \"%\")"
      ],
      "execution_count": null,
      "outputs": [
        {
          "output_type": "stream",
          "name": "stdout",
          "text": [
            "Testing Accuracy of the model   SOC    84.85\n",
            "dtype: float64%\n"
          ]
        }
      ]
    },
    {
      "cell_type": "markdown",
      "metadata": {
        "id": "nWLFWj5tKEyb"
      },
      "source": [
        "**SOC error Graph**"
      ]
    },
    {
      "cell_type": "code",
      "metadata": {
        "colab": {
          "base_uri": "https://localhost:8080/",
          "height": 280
        },
        "id": "clKeWh_AS7dg",
        "outputId": "4a75d238-79fe-4549-d5be-af2fe7684540"
      },
      "source": [
        "plt.plot(errors)\n",
        "plt.xlabel('Testing')\n",
        "plt.ylabel('Error')\n",
        "plt.show()"
      ],
      "execution_count": null,
      "outputs": [
        {
          "output_type": "display_data",
          "data": {
            "image/png": "[encoded data removed]",
            "text/plain": [
              "<Figure size 432x288 with 1 Axes>"
            ]
          },
          "metadata": {
            "needs_background": "light"
          }
        }
      ]
    },
    {
      "cell_type": "markdown",
      "metadata": {
        "id": "ftDBz4veKLT7"
      },
      "source": [
        "**Mean Square Error**"
      ]
    },
    {
      "cell_type": "code",
      "metadata": {
        "colab": {
          "base_uri": "https://localhost:8080/"
        },
        "id": "hMgcVuPnTQkp",
        "outputId": "cf060f5c-6995-4ca3-9fec-93c473ddd579"
      },
      "source": [
        "MSE_T = np.mean((test_Y - layer3t)**2) # Mean Squared Error\n",
        "print(MSE_T)\n",
        "errors.append(MSE_T)"
      ],
      "execution_count": null,
      "outputs": [
        {
          "output_type": "stream",
          "name": "stdout",
          "text": [
            "SOC    0.045472\n",
            "dtype: float64\n"
          ]
        }
      ]
    },
    {
      "cell_type": "code",
      "metadata": {
        "colab": {
          "base_uri": "https://localhost:8080/"
        },
        "id": "oEh_WtSlTXOt",
        "outputId": "30372b6b-1690-4acc-e404-44c188e618b3"
      },
      "source": [
        "from sklearn.metrics import mean_squared_error\n",
        "mean_squared_error(test_Y,layer3t)"
      ],
      "execution_count": null,
      "outputs": [
        {
          "output_type": "execute_result",
          "data": {
            "text/plain": [
              "0.045471820893367654"
            ]
          },
          "metadata": {},
          "execution_count": 95
        }
      ]
    },
    {
      "cell_type": "markdown",
      "metadata": {
        "id": "Pwi0wvySKQbG"
      },
      "source": [
        "**Mean Absolute Error**"
      ]
    },
    {
      "cell_type": "code",
      "metadata": {
        "colab": {
          "base_uri": "https://localhost:8080/"
        },
        "id": "-GnNCO-5Tq65",
        "outputId": "a95b3949-8b2b-4b5f-ba53-c5c2a1cb52f0"
      },
      "source": [
        "print(error) # Absolute Error Value"
      ],
      "execution_count": null,
      "outputs": [
        {
          "output_type": "stream",
          "name": "stdout",
          "text": [
            "SOC    0.151546\n",
            "dtype: float64\n"
          ]
        }
      ]
    },
    {
      "cell_type": "code",
      "metadata": {
        "colab": {
          "base_uri": "https://localhost:8080/",
          "height": 280
        },
        "id": "rXQEZLs1TxRR",
        "outputId": "f1ac56b1-9977-4662-c5b0-81a574042b3d"
      },
      "source": [
        "plt.plot(errors)\n",
        "plt.xlabel('Testing')\n",
        "plt.ylabel('MSE_T')# SOC \n",
        "plt.show()"
      ],
      "execution_count": null,
      "outputs": [
        {
          "output_type": "display_data",
          "data": {
            "image/png": "[encoded data removed]",
            "text/plain": [
              "<Figure size 432x288 with 1 Axes>"
            ]
          },
          "metadata": {
            "needs_background": "light"
          }
        }
      ]
    }
  ]
}