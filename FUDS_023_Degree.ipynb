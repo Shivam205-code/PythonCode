{
  "nbformat": 4,
  "nbformat_minor": 0,
  "metadata": {
    "colab": {
      "name": "FUDS_023_Degree.ipynb",
      "provenance": [],
      "collapsed_sections": []
    },
    "kernelspec": {
      "name": "python3",
      "display_name": "Python 3"
    },
    "language_info": {
      "name": "python"
    }
  },
  "cells": [
    {
      "cell_type": "markdown",
      "metadata": {
        "id": "hlnau9IuG--l"
      },
      "source": [
        "**Importing Python Libraries**"
      ]
    },
    {
      "cell_type": "code",
      "metadata": {
        "id": "fQCx6r43P0D4"
      },
      "source": [
        "import numpy as np\n",
        "from scipy import signal\n",
        "import pandas as pd\n",
        "import matplotlib.pyplot as plt\n",
        "import random as rn\n",
        "import math"
      ],
      "execution_count": null,
      "outputs": []
    },
    {
      "cell_type": "markdown",
      "metadata": {
        "id": "AEo9v_rKHYCV"
      },
      "source": [
        "**Data Importing**"
      ]
    },
    {
      "cell_type": "code",
      "metadata": {
        "colab": {
          "base_uri": "https://localhost:8080/",
          "height": 203
        },
        "id": "GATpeR3PP7TS",
        "outputId": "c874e578-b68c-4448-ce31-a6673141a6bc"
      },
      "source": [
        "df = pd.read_csv('FUDS0.csv')\n",
        "df.head()"
      ],
      "execution_count": null,
      "outputs": [
        {
          "output_type": "execute_result",
          "data": {
            "text/html": [
              "<div>\n",
              "<style scoped>\n",
              "    .dataframe tbody tr th:only-of-type {\n",
              "        vertical-align: middle;\n",
              "    }\n",
              "\n",
              "    .dataframe tbody tr th {\n",
              "        vertical-align: top;\n",
              "    }\n",
              "\n",
              "    .dataframe thead th {\n",
              "        text-align: right;\n",
              "    }\n",
              "</style>\n",
              "<table border=\"1\" class=\"dataframe\">\n",
              "  <thead>\n",
              "    <tr style=\"text-align: right;\">\n",
              "      <th></th>\n",
              "      <th>Current(A)</th>\n",
              "      <th>Voltage(V)</th>\n",
              "      <th>Charge_Capacity(Ah)</th>\n",
              "      <th>Discharge_Capacity(Ah)</th>\n",
              "      <th>A</th>\n",
              "      <th>SOC</th>\n",
              "      <th>SOC%</th>\n",
              "    </tr>\n",
              "  </thead>\n",
              "  <tbody>\n",
              "    <tr>\n",
              "      <th>0</th>\n",
              "      <td>0.000000</td>\n",
              "      <td>3.471265</td>\n",
              "      <td>0.000000</td>\n",
              "      <td>0.0</td>\n",
              "      <td>0.0</td>\n",
              "      <td>1.0</td>\n",
              "      <td>100.0</td>\n",
              "    </tr>\n",
              "    <tr>\n",
              "      <th>1</th>\n",
              "      <td>0.999713</td>\n",
              "      <td>3.619649</td>\n",
              "      <td>0.002781</td>\n",
              "      <td>0.0</td>\n",
              "      <td>0.0</td>\n",
              "      <td>1.0</td>\n",
              "      <td>100.0</td>\n",
              "    </tr>\n",
              "    <tr>\n",
              "      <th>2</th>\n",
              "      <td>0.999893</td>\n",
              "      <td>3.625805</td>\n",
              "      <td>0.005563</td>\n",
              "      <td>0.0</td>\n",
              "      <td>0.0</td>\n",
              "      <td>1.0</td>\n",
              "      <td>100.0</td>\n",
              "    </tr>\n",
              "    <tr>\n",
              "      <th>3</th>\n",
              "      <td>0.999893</td>\n",
              "      <td>3.630341</td>\n",
              "      <td>0.008344</td>\n",
              "      <td>0.0</td>\n",
              "      <td>0.0</td>\n",
              "      <td>1.0</td>\n",
              "      <td>100.0</td>\n",
              "    </tr>\n",
              "    <tr>\n",
              "      <th>4</th>\n",
              "      <td>0.999713</td>\n",
              "      <td>3.633742</td>\n",
              "      <td>0.011126</td>\n",
              "      <td>0.0</td>\n",
              "      <td>0.0</td>\n",
              "      <td>1.0</td>\n",
              "      <td>100.0</td>\n",
              "    </tr>\n",
              "  </tbody>\n",
              "</table>\n",
              "</div>"
            ],
            "text/plain": [
              "   Current(A)  Voltage(V)  Charge_Capacity(Ah)  ...    A  SOC   SOC%\n",
              "0    0.000000    3.471265             0.000000  ...  0.0  1.0  100.0\n",
              "1    0.999713    3.619649             0.002781  ...  0.0  1.0  100.0\n",
              "2    0.999893    3.625805             0.005563  ...  0.0  1.0  100.0\n",
              "3    0.999893    3.630341             0.008344  ...  0.0  1.0  100.0\n",
              "4    0.999713    3.633742             0.011126  ...  0.0  1.0  100.0\n",
              "\n",
              "[5 rows x 7 columns]"
            ]
          },
          "metadata": {},
          "execution_count": 2
        }
      ]
    },
    {
      "cell_type": "code",
      "metadata": {
        "colab": {
          "base_uri": "https://localhost:8080/"
        },
        "id": "cdJQNoFFQOJL",
        "outputId": "19ba3770-2628-4cba-a499-d724ea065686"
      },
      "source": [
        "X =df.drop(['Charge_Capacity(Ah)','Discharge_Capacity(Ah)', 'A', 'SOC', 'SOC%'], axis=1)\n",
        "X = X.dropna()\n",
        "print(X)"
      ],
      "execution_count": null,
      "outputs": [
        {
          "output_type": "stream",
          "name": "stdout",
          "text": [
            "      Current(A)  Voltage(V)\n",
            "0       0.000000    3.471265\n",
            "1       0.999713    3.619649\n",
            "2       0.999893    3.625805\n",
            "3       0.999893    3.630341\n",
            "4       0.999713    3.633742\n",
            "...          ...         ...\n",
            "6855    0.080902    3.617381\n",
            "6856    0.202547    3.630826\n",
            "6857   -0.911867    3.515164\n",
            "6858   -1.073460    3.496536\n",
            "6859   -0.805518    3.523264\n",
            "\n",
            "[6860 rows x 2 columns]\n"
          ]
        }
      ]
    },
    {
      "cell_type": "markdown",
      "metadata": {
        "id": "rm7D3YkHHhUq"
      },
      "source": [
        "**Moving Average Filter for Input Quantities**"
      ]
    },
    {
      "cell_type": "code",
      "metadata": {
        "colab": {
          "base_uri": "https://localhost:8080/"
        },
        "id": "PrLVWs5mR2_L",
        "outputId": "1ab8f2b8-52e5-4457-fce5-f41be634a653"
      },
      "source": [
        "L=7200 #L-point filter\n",
        "b = (np.ones(L))/L #numerator co-effs of filter transfer function\n",
        "a = 1  #denominator co-effs of filter transfer function\n",
        "Xf = signal.lfilter(b,a,X) #filter output using lfilter function\n",
        "print(Xf)"
      ],
      "execution_count": null,
      "outputs": [
        {
          "output_type": "stream",
          "name": "stdout",
          "text": [
            "[[ 0.          0.00048212]\n",
            " [ 0.00013885  0.00064158]\n",
            " [ 0.00013887  0.00064246]\n",
            " ...\n",
            " [-0.00012665  0.00036157]\n",
            " [-0.00014909  0.00033654]\n",
            " [-0.00011188  0.00037746]]\n"
          ]
        }
      ]
    },
    {
      "cell_type": "code",
      "metadata": {
        "colab": {
          "base_uri": "https://localhost:8080/",
          "height": 534
        },
        "id": "iW-ecsOOSDQr",
        "outputId": "81a4a519-c4a3-4f6e-aecd-a66428497761"
      },
      "source": [
        "Xf1 = pd.DataFrame(Xf)\n",
        "print(Xf1)\n",
        "plt.plot(Xf1)"
      ],
      "execution_count": null,
      "outputs": [
        {
          "output_type": "stream",
          "name": "stdout",
          "text": [
            "             0         1\n",
            "0     0.000000  0.000482\n",
            "1     0.000139  0.000642\n",
            "2     0.000139  0.000642\n",
            "3     0.000139  0.000643\n",
            "4     0.000139  0.000644\n",
            "...        ...       ...\n",
            "6855  0.000011  0.000514\n",
            "6856  0.000028  0.000532\n",
            "6857 -0.000127  0.000362\n",
            "6858 -0.000149  0.000337\n",
            "6859 -0.000112  0.000377\n",
            "\n",
            "[6860 rows x 2 columns]\n"
          ]
        },
        {
          "output_type": "execute_result",
          "data": {
            "text/plain": [
              "[<matplotlib.lines.Line2D at 0x7f6cb4e18050>,\n",
              " <matplotlib.lines.Line2D at 0x7f6cb4e18250>]"
            ]
          },
          "metadata": {},
          "execution_count": 5
        },
        {
          "output_type": "display_data",
          "data": {
            "image/png": "[encoded data removed]",
            "text/plain": [
              "<Figure size 432x288 with 1 Axes>"
            ]
          },
          "metadata": {
            "needs_background": "light"
          }
        }
      ]
    },
    {
      "cell_type": "markdown",
      "metadata": {
        "id": "KlC2_e1JH1Wk"
      },
      "source": [
        "**Data Normalization**"
      ]
    },
    {
      "cell_type": "code",
      "metadata": {
        "colab": {
          "base_uri": "https://localhost:8080/",
          "height": 534
        },
        "id": "KN02oYQFvTae",
        "outputId": "20a6005f-33cf-4ac6-b05b-0aec2ee209bf"
      },
      "source": [
        "df_min_max_scaled = Xf1.copy()  \n",
        "# apply normalization techniques\n",
        "for column in df_min_max_scaled.columns:\n",
        "    df_min_max_scaled[column] = -1 + 2*(df_min_max_scaled[column] - df_min_max_scaled[column].min()) / (df_min_max_scaled[column].max() - df_min_max_scaled[column].min())    \n",
        "    Xn = df_min_max_scaled.copy()\n",
        "# view normalized data\n",
        "print(Xn)\n",
        "plt.plot(Xn)"
      ],
      "execution_count": null,
      "outputs": [
        {
          "output_type": "stream",
          "name": "stdout",
          "text": [
            "             0         1\n",
            "0     0.302711  0.206010\n",
            "1     0.628256  0.529074\n",
            "2     0.628314  0.530857\n",
            "3     0.628314  0.532133\n",
            "4     0.628256  0.533040\n",
            "...        ...       ...\n",
            "6855  0.329056  0.269891\n",
            "6856  0.368668  0.307904\n",
            "6857  0.005772 -0.038228\n",
            "6858 -0.046849 -0.088940\n",
            "6859  0.040403 -0.006023\n",
            "\n",
            "[6860 rows x 2 columns]\n"
          ]
        },
        {
          "output_type": "execute_result",
          "data": {
            "text/plain": [
              "[<matplotlib.lines.Line2D at 0x7f6cb48963d0>,\n",
              " <matplotlib.lines.Line2D at 0x7f6cb4896290>]"
            ]
          },
          "metadata": {},
          "execution_count": 6
        },
        {
          "output_type": "display_data",
          "data": {
            "image/png": "[encoded data removed]",
            "text/plain": [
              "<Figure size 432x288 with 1 Axes>"
            ]
          },
          "metadata": {
            "needs_background": "light"
          }
        }
      ]
    },
    {
      "cell_type": "code",
      "metadata": {
        "colab": {
          "base_uri": "https://localhost:8080/"
        },
        "id": "fmKBtCVpvcDV",
        "outputId": "6b5aea35-002b-44f0-df0f-3b17ebe26e43"
      },
      "source": [
        "Y =df.drop(['Current(A)','Voltage(V)','Charge_Capacity(Ah)','Discharge_Capacity(Ah)','A','SOC%'], axis=1)\n",
        "Y = Y.dropna()\n",
        "print(Y)"
      ],
      "execution_count": null,
      "outputs": [
        {
          "output_type": "stream",
          "name": "stdout",
          "text": [
            "               SOC\n",
            "0     1.000000e+00\n",
            "1     1.000000e+00\n",
            "2     1.000000e+00\n",
            "3     1.000000e+00\n",
            "4     1.000000e+00\n",
            "...            ...\n",
            "6855  5.630140e-04\n",
            "6856  5.630140e-04\n",
            "6857  4.233660e-04\n",
            "6858  1.934740e-04\n",
            "6859  3.634560e-07\n",
            "\n",
            "[6860 rows x 1 columns]\n"
          ]
        }
      ]
    },
    {
      "cell_type": "markdown",
      "metadata": {
        "id": "7Pi2HXD7H_hD"
      },
      "source": [
        "**Dataset Splitting into Training and Testing Data**"
      ]
    },
    {
      "cell_type": "code",
      "metadata": {
        "colab": {
          "base_uri": "https://localhost:8080/"
        },
        "id": "ktdISzP9vejf",
        "outputId": "7f5c76bc-eb53-44d5-9cac-355bc23059cd"
      },
      "source": [
        "from sklearn.model_selection import train_test_split\n",
        "train_Xn, test_Xn, train_Y, test_Y = train_test_split(Xn, Y,train_size=0.7,test_size=0.3)\n",
        "print(\"Labels for training and testing data\")\n",
        "print(train_Y)\n",
        "print(test_Y)\n",
        "print(train_Xn)\n",
        "print(test_Xn)"
      ],
      "execution_count": null,
      "outputs": [
        {
          "output_type": "stream",
          "name": "stdout",
          "text": [
            "Labels for training and testing data\n",
            "           SOC\n",
            "5026  0.251566\n",
            "1141  0.798740\n",
            "5162  0.232192\n",
            "609   1.000000\n",
            "4568  0.336466\n",
            "...        ...\n",
            "3113  0.535720\n",
            "4606  0.332614\n",
            "3235  0.523257\n",
            "3000  0.548290\n",
            "2489  0.608726\n",
            "\n",
            "[4802 rows x 1 columns]\n",
            "           SOC\n",
            "3858  0.417140\n",
            "4184  0.376516\n",
            "5673  0.171638\n",
            "1641  0.712686\n",
            "3157  0.533659\n",
            "...        ...\n",
            "2301  0.635997\n",
            "4464  0.346082\n",
            "2131  0.667218\n",
            "6233  0.088067\n",
            "3769  0.427661\n",
            "\n",
            "[2058 rows x 1 columns]\n",
            "             0         1\n",
            "5026 -0.622279 -0.613257\n",
            "1141 -0.023000  0.037330\n",
            "5162  0.302628  0.265789\n",
            "609   0.453400  0.541256\n",
            "4568  0.302687  0.279105\n",
            "...        ...       ...\n",
            "3113  0.289444  0.293962\n",
            "4606  0.398201  0.368204\n",
            "3235 -0.060092 -0.043177\n",
            "3000 -0.345170 -0.310487\n",
            "2489  0.010811  0.039014\n",
            "\n",
            "[4802 rows x 2 columns]\n",
            "             0         1\n",
            "3858  0.197035  0.186350\n",
            "4184  0.310949  0.289344\n",
            "5673 -0.206938 -0.226912\n",
            "1641  0.302711  0.345084\n",
            "3157 -0.416191 -0.376871\n",
            "...        ...       ...\n",
            "2301 -0.252996 -0.207545\n",
            "4464  0.211860  0.190181\n",
            "2131 -0.346987 -0.308410\n",
            "6233 -0.248191 -0.282843\n",
            "3769 -0.069995 -0.062994\n",
            "\n",
            "[2058 rows x 2 columns]\n"
          ]
        }
      ]
    },
    {
      "cell_type": "markdown",
      "metadata": {
        "id": "7C5FWwLpIMur"
      },
      "source": [
        "**Sigmoid Function**"
      ]
    },
    {
      "cell_type": "code",
      "metadata": {
        "id": "7LFEYzm_vmkd"
      },
      "source": [
        "# defining the Sigmoid Function\n",
        "def sigmoid (Xn):\n",
        "    return 1/(1 + np.exp(-Xn))\n",
        "\n",
        "# derivative of Sigmoid Function\n",
        "def derivatives_sigmoid(Xn):\n",
        "    return Xn * (1 - Xn)"
      ],
      "execution_count": null,
      "outputs": []
    },
    {
      "cell_type": "markdown",
      "metadata": {
        "id": "9b6o37LqIRtI"
      },
      "source": [
        "**Initialization of Parameters**"
      ]
    },
    {
      "cell_type": "code",
      "metadata": {
        "id": "gnU0bLWXvrXc"
      },
      "source": [
        "#Weights\n",
        "w0 = 2*np.random.random((2, 3)) - 1 #for input   - 2 inputs, 1 outputs\n",
        "w1 = 2*np.random.random((3, 3)) - 1 #for layer 1 - 2 inputs, 1 outputs\n",
        "w2 = 2*np.random.random((3, 1)) - 1 #for layer 2 - 2 inputs, 1 outputs\n",
        "#learning rate\n",
        "n = 0.1\n",
        "epoch = 500\n",
        "hiddenlayer_neurons = 3\n",
        "hiddenlayer = 2"
      ],
      "execution_count": null,
      "outputs": []
    },
    {
      "cell_type": "code",
      "metadata": {
        "id": "07tm2JgJvusH"
      },
      "source": [
        "errors = []"
      ],
      "execution_count": null,
      "outputs": []
    },
    {
      "cell_type": "markdown",
      "metadata": {
        "id": "JD_lFLxSIp6B"
      },
      "source": [
        "**Feed-Forward Backpropagation**"
      ]
    },
    {
      "cell_type": "code",
      "metadata": {
        "id": "bt_dA_3_v0K0"
      },
      "source": [
        "for i in range (epoch):\n",
        "\n",
        "    #Feed forward network\n",
        "    layer0 = train_Xn    #Input Layer\n",
        "    layer1 = sigmoid(np.dot(layer0, w0))  #Hidden Layer 1\n",
        "    layer2 = sigmoid(np.dot(layer1, w1))  #Hidden Layer 2\n",
        "    layer3 = sigmoid(np.dot(layer2, w2))  #Output Layer \n",
        "\n",
        "    #Back propagation using gradient descent\n",
        "    layer3_error = train_Y - layer3\n",
        "    layer3_delta = layer3_error * derivatives_sigmoid(layer3)\n",
        "\n",
        "    layer2_error = layer3_delta.dot (w2.T)\n",
        "    layer2_delta = layer2_error * derivatives_sigmoid(layer2)\n",
        "\n",
        "    layer1_error = layer2_delta.dot (w1.T)\n",
        "    layer1_delta = layer1_error * derivatives_sigmoid(layer1)\n",
        "\n",
        "    w2 += layer2.T.dot(layer3_delta) * n \n",
        "    w1 += layer1.T.dot(layer2_delta) * n\n",
        "    w0 += layer0.T.dot(layer1_delta) * n\n",
        "\n",
        "    error = np.mean(np.abs(layer3_error))\n",
        "    errors.append(error)"
      ],
      "execution_count": null,
      "outputs": []
    },
    {
      "cell_type": "markdown",
      "metadata": {
        "id": "MBVDAkkXJBn1"
      },
      "source": [
        "**Calculation of Accuracy of Training Model**"
      ]
    },
    {
      "cell_type": "code",
      "metadata": {
        "id": "qN1iFrFbv3Cv"
      },
      "source": [
        "accuracy_training = (1 - error) * 100"
      ],
      "execution_count": null,
      "outputs": []
    },
    {
      "cell_type": "code",
      "metadata": {
        "colab": {
          "base_uri": "https://localhost:8080/"
        },
        "id": "SOXl7qYGv-X_",
        "outputId": "16e8a12d-1b68-4b54-ce0f-77ad29a15703"
      },
      "source": [
        "print (\"Training Accuracy of the model   \" + str (round(accuracy_training,2)) + \"%\")"
      ],
      "execution_count": null,
      "outputs": [
        {
          "output_type": "stream",
          "name": "stdout",
          "text": [
            "Training Accuracy of the model   SOC    80.3\n",
            "dtype: float64%\n"
          ]
        }
      ]
    },
    {
      "cell_type": "markdown",
      "metadata": {
        "id": "M-NqEgTTJPns"
      },
      "source": [
        "**SOC Graph**"
      ]
    },
    {
      "cell_type": "code",
      "metadata": {
        "colab": {
          "base_uri": "https://localhost:8080/",
          "height": 279
        },
        "id": "ORG2E3xhv6qF",
        "outputId": "9f7b640c-9de5-4ba7-b26d-f68a01d0d97b"
      },
      "source": [
        "plt.plot(errors)\n",
        "plt.xlabel('Training')\n",
        "plt.ylabel('Error')\n",
        "plt.show()"
      ],
      "execution_count": null,
      "outputs": [
        {
          "output_type": "display_data",
          "data": {
            "image/png": "[encoded data removed]",
            "text/plain": [
              "<Figure size 432x288 with 1 Axes>"
            ]
          },
          "metadata": {
            "needs_background": "light"
          }
        }
      ]
    },
    {
      "cell_type": "markdown",
      "metadata": {
        "id": "e5Au3E7zJVLl"
      },
      "source": [
        "**Mean Square Error Calculation**"
      ]
    },
    {
      "cell_type": "code",
      "metadata": {
        "colab": {
          "base_uri": "https://localhost:8080/"
        },
        "id": "jslloljawBlt",
        "outputId": "a4513b2c-807e-47b6-b22a-58d45118f464"
      },
      "source": [
        "MSE = np.mean((train_Y - layer3)**2) # Mean Squared Error\n",
        "print(MSE)\n",
        "errors.append(MSE)"
      ],
      "execution_count": null,
      "outputs": [
        {
          "output_type": "stream",
          "name": "stdout",
          "text": [
            "SOC    0.065034\n",
            "dtype: float64\n"
          ]
        }
      ]
    },
    {
      "cell_type": "code",
      "metadata": {
        "colab": {
          "base_uri": "https://localhost:8080/"
        },
        "id": "ARngKW_9xr7Z",
        "outputId": "27a27614-d799-4884-f941-2a102c9cc21f"
      },
      "source": [
        "from sklearn.metrics import mean_squared_error\n",
        "mean_squared_error(train_Y,layer3)"
      ],
      "execution_count": null,
      "outputs": [
        {
          "output_type": "execute_result",
          "data": {
            "text/plain": [
              "0.06503350791383633"
            ]
          },
          "metadata": {},
          "execution_count": 17
        }
      ]
    },
    {
      "cell_type": "markdown",
      "metadata": {
        "id": "Nih_r-0EJfQe"
      },
      "source": [
        "**Absolute Error Calculation**"
      ]
    },
    {
      "cell_type": "code",
      "metadata": {
        "colab": {
          "base_uri": "https://localhost:8080/"
        },
        "id": "LwkDpdXxAsiz",
        "outputId": "fb4fe6d4-b341-4c5b-ff9a-eaa08e92c50a"
      },
      "source": [
        "print(error) # Absolute Error Value"
      ],
      "execution_count": null,
      "outputs": [
        {
          "output_type": "stream",
          "name": "stdout",
          "text": [
            "SOC    0.19697\n",
            "dtype: float64\n"
          ]
        }
      ]
    },
    {
      "cell_type": "code",
      "metadata": {
        "colab": {
          "base_uri": "https://localhost:8080/",
          "height": 279
        },
        "id": "AyKWf4RfBA61",
        "outputId": "481e7ebf-fbdd-4d05-b21e-b7e60923edc6"
      },
      "source": [
        "plt.plot(errors)\n",
        "plt.xlabel('Training')\n",
        "plt.ylabel('MSE')# SOC \n",
        "plt.show()"
      ],
      "execution_count": null,
      "outputs": [
        {
          "output_type": "display_data",
          "data": {
            "image/png": "[encoded data removed]",
            "text/plain": [
              "<Figure size 432x288 with 1 Axes>"
            ]
          },
          "metadata": {
            "needs_background": "light"
          }
        }
      ]
    },
    {
      "cell_type": "markdown",
      "metadata": {
        "id": "xoy1zVxRJpqM"
      },
      "source": [
        "**Linear Regression**"
      ]
    },
    {
      "cell_type": "code",
      "metadata": {
        "id": "rw8kv2tWG0zV"
      },
      "source": [
        "from sklearn.linear_model import LinearRegression\n",
        "linear_regressor = LinearRegression()\n",
        "linear_regressor.fit(train_Y,layer3)\n",
        "layer2n = linear_regressor.predict(train_Y)"
      ],
      "execution_count": null,
      "outputs": []
    },
    {
      "cell_type": "code",
      "metadata": {
        "colab": {
          "base_uri": "https://localhost:8080/",
          "height": 265
        },
        "id": "bi1LFdX7G5Al",
        "outputId": "50a5d07a-c0d4-4aee-a29f-37063bd17d96"
      },
      "source": [
        "plt.scatter(train_Y,layer2n)\n",
        "plt.plot(train_Y, layer2n, color='red')\n",
        "plt.show()"
      ],
      "execution_count": null,
      "outputs": [
        {
          "output_type": "display_data",
          "data": {
            "image/png": "[encoded data removed]",
            "text/plain": [
              "<Figure size 432x288 with 1 Axes>"
            ]
          },
          "metadata": {
            "needs_background": "light"
          }
        }
      ]
    },
    {
      "cell_type": "markdown",
      "metadata": {
        "id": "ze2k8a61Jxdz"
      },
      "source": [
        "**Testing Part**"
      ]
    },
    {
      "cell_type": "code",
      "metadata": {
        "id": "Ff2ZEL0zR1BP"
      },
      "source": [
        "#Testing\n",
        "layer0t = test_Xn\n",
        "\n",
        "layer1t = sigmoid(np.dot(layer0t, w0))\n",
        "layer2t = sigmoid(np.dot(layer1t, w1))\n",
        "layer3t = sigmoid(np.dot(layer2t, w2))\n",
        "\n",
        "layer3t_error = test_Y - layer3t\n",
        "error = np.mean(np.abs(layer3t_error))\n",
        "errors.append(error)"
      ],
      "execution_count": null,
      "outputs": []
    },
    {
      "cell_type": "markdown",
      "metadata": {
        "id": "4jprAAzjJ4Yz"
      },
      "source": [
        "**Testing Accuracy Calculation**"
      ]
    },
    {
      "cell_type": "code",
      "metadata": {
        "id": "yme5DifrR9Ed"
      },
      "source": [
        "accuracy_testing = (1 - error) * 100"
      ],
      "execution_count": null,
      "outputs": []
    },
    {
      "cell_type": "code",
      "metadata": {
        "colab": {
          "base_uri": "https://localhost:8080/"
        },
        "id": "OV9rBvnuSD2U",
        "outputId": "b967c673-9a86-4844-ffce-865c8d4440f4"
      },
      "source": [
        "print (\"Testing Accuracy of the model   \" + str (round(accuracy_testing,2)) + \"%\")"
      ],
      "execution_count": null,
      "outputs": [
        {
          "output_type": "stream",
          "name": "stdout",
          "text": [
            "Testing Accuracy of the model   SOC    82.6\n",
            "dtype: float64%\n"
          ]
        }
      ]
    },
    {
      "cell_type": "markdown",
      "metadata": {
        "id": "nWLFWj5tKEyb"
      },
      "source": [
        "**SOC error Graph**"
      ]
    },
    {
      "cell_type": "code",
      "metadata": {
        "colab": {
          "base_uri": "https://localhost:8080/",
          "height": 279
        },
        "id": "clKeWh_AS7dg",
        "outputId": "13e99fc0-20c6-4191-95b7-eb9e66c3eccb"
      },
      "source": [
        "plt.plot(errors)\n",
        "plt.xlabel('Testing')\n",
        "plt.ylabel('Error')\n",
        "plt.show()"
      ],
      "execution_count": null,
      "outputs": [
        {
          "output_type": "display_data",
          "data": {
            "image/png": "[encoded data removed]",
            "text/plain": [
              "<Figure size 432x288 with 1 Axes>"
            ]
          },
          "metadata": {
            "needs_background": "light"
          }
        }
      ]
    },
    {
      "cell_type": "markdown",
      "metadata": {
        "id": "ftDBz4veKLT7"
      },
      "source": [
        "**Mean Square Error**"
      ]
    },
    {
      "cell_type": "code",
      "metadata": {
        "colab": {
          "base_uri": "https://localhost:8080/"
        },
        "id": "hMgcVuPnTQkp",
        "outputId": "2e8150b1-a03a-480f-93d8-bdf3e1a723a9"
      },
      "source": [
        "MSE_T = np.mean((test_Y - layer3t)**2) # Mean Squared Error\n",
        "print(MSE_T)\n",
        "errors.append(MSE_T)"
      ],
      "execution_count": null,
      "outputs": [
        {
          "output_type": "stream",
          "name": "stdout",
          "text": [
            "SOC    0.058194\n",
            "dtype: float64\n"
          ]
        }
      ]
    },
    {
      "cell_type": "code",
      "metadata": {
        "colab": {
          "base_uri": "https://localhost:8080/"
        },
        "id": "oEh_WtSlTXOt",
        "outputId": "575a9386-fd9f-4095-8d89-a5ea8ea606eb"
      },
      "source": [
        "from sklearn.metrics import mean_squared_error\n",
        "mean_squared_error(test_Y,layer3t)"
      ],
      "execution_count": null,
      "outputs": [
        {
          "output_type": "execute_result",
          "data": {
            "text/plain": [
              "0.05819381765135647"
            ]
          },
          "metadata": {},
          "execution_count": 27
        }
      ]
    },
    {
      "cell_type": "markdown",
      "metadata": {
        "id": "Pwi0wvySKQbG"
      },
      "source": [
        "**Mean Absolute Error**"
      ]
    },
    {
      "cell_type": "code",
      "metadata": {
        "colab": {
          "base_uri": "https://localhost:8080/"
        },
        "id": "-GnNCO-5Tq65",
        "outputId": "0ac33792-32d5-45e4-925c-7ad2ac582831"
      },
      "source": [
        "print(error) # Absolute Error Value"
      ],
      "execution_count": null,
      "outputs": [
        {
          "output_type": "stream",
          "name": "stdout",
          "text": [
            "SOC    0.173955\n",
            "dtype: float64\n"
          ]
        }
      ]
    },
    {
      "cell_type": "code",
      "metadata": {
        "colab": {
          "base_uri": "https://localhost:8080/",
          "height": 279
        },
        "id": "rXQEZLs1TxRR",
        "outputId": "30944a92-4768-4377-97a1-736b374dceb5"
      },
      "source": [
        "plt.plot(errors)\n",
        "plt.xlabel('Testing')\n",
        "plt.ylabel('MSE_T')# SOC \n",
        "plt.show()"
      ],
      "execution_count": null,
      "outputs": [
        {
          "output_type": "display_data",
          "data": {
            "image/png": "[encoded data removed]",
            "text/plain": [
              "<Figure size 432x288 with 1 Axes>"
            ]
          },
          "metadata": {
            "needs_background": "light"
          }
        }
      ]
    }
  ]
}