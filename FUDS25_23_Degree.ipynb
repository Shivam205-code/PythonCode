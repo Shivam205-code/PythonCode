{
  "nbformat": 4,
  "nbformat_minor": 0,
  "metadata": {
    "colab": {
      "name": "FUDS25_23_Degree.ipynb",
      "provenance": [],
      "collapsed_sections": []
    },
    "kernelspec": {
      "name": "python3",
      "display_name": "Python 3"
    },
    "language_info": {
      "name": "python"
    }
  },
  "cells": [
    {
      "cell_type": "markdown",
      "metadata": {
        "id": "hlnau9IuG--l"
      },
      "source": [
        "**Importing Python Libraries**"
      ]
    },
    {
      "cell_type": "code",
      "metadata": {
        "id": "fQCx6r43P0D4"
      },
      "source": [
        "import numpy as np\n",
        "from scipy import signal\n",
        "import pandas as pd\n",
        "import matplotlib.pyplot as plt\n",
        "import random as rn\n",
        "import math"
      ],
      "execution_count": null,
      "outputs": []
    },
    {
      "cell_type": "markdown",
      "metadata": {
        "id": "AEo9v_rKHYCV"
      },
      "source": [
        "**Data Importing**"
      ]
    },
    {
      "cell_type": "code",
      "metadata": {
        "colab": {
          "base_uri": "https://localhost:8080/",
          "height": 203
        },
        "id": "GATpeR3PP7TS",
        "outputId": "dffaa3ec-a3e3-4d8d-8ba4-54ff52e48351"
      },
      "source": [
        "df = pd.read_csv('FUDS25.csv')\n",
        "df.head()"
      ],
      "execution_count": null,
      "outputs": [
        {
          "output_type": "execute_result",
          "data": {
            "text/html": [
              "<div>\n",
              "<style scoped>\n",
              "    .dataframe tbody tr th:only-of-type {\n",
              "        vertical-align: middle;\n",
              "    }\n",
              "\n",
              "    .dataframe tbody tr th {\n",
              "        vertical-align: top;\n",
              "    }\n",
              "\n",
              "    .dataframe thead th {\n",
              "        text-align: right;\n",
              "    }\n",
              "</style>\n",
              "<table border=\"1\" class=\"dataframe\">\n",
              "  <thead>\n",
              "    <tr style=\"text-align: right;\">\n",
              "      <th></th>\n",
              "      <th>Current(A)</th>\n",
              "      <th>Voltage(V)</th>\n",
              "      <th>Charge_Capacity(Ah)</th>\n",
              "      <th>Discharge_Capacity(Ah)</th>\n",
              "      <th>A</th>\n",
              "      <th>SOC</th>\n",
              "      <th>SOC%</th>\n",
              "    </tr>\n",
              "  </thead>\n",
              "  <tbody>\n",
              "    <tr>\n",
              "      <th>0</th>\n",
              "      <td>0.000000</td>\n",
              "      <td>3.411755</td>\n",
              "      <td>0.000000</td>\n",
              "      <td>0.0</td>\n",
              "      <td>0.0</td>\n",
              "      <td>1.0</td>\n",
              "      <td>100.0</td>\n",
              "    </tr>\n",
              "    <tr>\n",
              "      <th>1</th>\n",
              "      <td>0.999834</td>\n",
              "      <td>3.517305</td>\n",
              "      <td>0.002782</td>\n",
              "      <td>0.0</td>\n",
              "      <td>0.0</td>\n",
              "      <td>1.0</td>\n",
              "      <td>100.0</td>\n",
              "    </tr>\n",
              "    <tr>\n",
              "      <th>2</th>\n",
              "      <td>0.999834</td>\n",
              "      <td>3.527665</td>\n",
              "      <td>0.005563</td>\n",
              "      <td>0.0</td>\n",
              "      <td>0.0</td>\n",
              "      <td>1.0</td>\n",
              "      <td>100.0</td>\n",
              "    </tr>\n",
              "    <tr>\n",
              "      <th>3</th>\n",
              "      <td>0.999834</td>\n",
              "      <td>3.535598</td>\n",
              "      <td>0.008341</td>\n",
              "      <td>0.0</td>\n",
              "      <td>0.0</td>\n",
              "      <td>1.0</td>\n",
              "      <td>100.0</td>\n",
              "    </tr>\n",
              "    <tr>\n",
              "      <th>4</th>\n",
              "      <td>1.000014</td>\n",
              "      <td>3.542073</td>\n",
              "      <td>0.011118</td>\n",
              "      <td>0.0</td>\n",
              "      <td>0.0</td>\n",
              "      <td>1.0</td>\n",
              "      <td>100.0</td>\n",
              "    </tr>\n",
              "  </tbody>\n",
              "</table>\n",
              "</div>"
            ],
            "text/plain": [
              "   Current(A)  Voltage(V)  Charge_Capacity(Ah)  ...    A  SOC   SOC%\n",
              "0    0.000000    3.411755             0.000000  ...  0.0  1.0  100.0\n",
              "1    0.999834    3.517305             0.002782  ...  0.0  1.0  100.0\n",
              "2    0.999834    3.527665             0.005563  ...  0.0  1.0  100.0\n",
              "3    0.999834    3.535598             0.008341  ...  0.0  1.0  100.0\n",
              "4    1.000014    3.542073             0.011118  ...  0.0  1.0  100.0\n",
              "\n",
              "[5 rows x 7 columns]"
            ]
          },
          "metadata": {},
          "execution_count": 2
        }
      ]
    },
    {
      "cell_type": "code",
      "metadata": {
        "colab": {
          "base_uri": "https://localhost:8080/"
        },
        "id": "cdJQNoFFQOJL",
        "outputId": "7045efca-ad9a-4c30-baae-a5d4361acdf1"
      },
      "source": [
        "X =df.drop(['Charge_Capacity(Ah)','Discharge_Capacity(Ah)', 'A', 'SOC', 'SOC%'], axis=1)\n",
        "X = X.dropna()\n",
        "print(X)"
      ],
      "execution_count": null,
      "outputs": [
        {
          "output_type": "stream",
          "name": "stdout",
          "text": [
            "      Current(A)  Voltage(V)\n",
            "0       0.000000    3.411755\n",
            "1       0.999834    3.517305\n",
            "2       0.999834    3.527665\n",
            "3       0.999834    3.535598\n",
            "4       1.000014    3.542073\n",
            "...          ...         ...\n",
            "6855   -3.999612    3.359466\n",
            "6856   -2.531439    3.460645\n",
            "6857   -3.999612    3.357523\n",
            "6858   -3.018723    3.423735\n",
            "6859   -3.999612    3.354286\n",
            "\n",
            "[6860 rows x 2 columns]\n"
          ]
        }
      ]
    },
    {
      "cell_type": "markdown",
      "metadata": {
        "id": "rm7D3YkHHhUq"
      },
      "source": [
        "**Moving Average Filter for Input Quantities**"
      ]
    },
    {
      "cell_type": "code",
      "metadata": {
        "colab": {
          "base_uri": "https://localhost:8080/"
        },
        "id": "PrLVWs5mR2_L",
        "outputId": "8d579e1a-e2e4-4f65-bdd4-b970948df589"
      },
      "source": [
        "L=6860 #L-point filter\n",
        "b = (np.ones(L))/L #numerator co-effs of filter transfer function\n",
        "a = 1  #denominator co-effs of filter transfer function\n",
        "Xf = signal.lfilter(b,a,X) #filter output using lfilter function\n",
        "print(Xf)"
      ],
      "execution_count": null,
      "outputs": [
        {
          "output_type": "stream",
          "name": "stdout",
          "text": [
            "[[ 0.00000000e+00  4.97340426e-04]\n",
            " [ 1.45748353e-04  6.58474980e-04]\n",
            " [ 1.45748353e-04  6.59985289e-04]\n",
            " ...\n",
            " [-5.83033763e-04 -9.35988593e-05]\n",
            " [-4.40047051e-04  5.90396691e-05]\n",
            " [-5.83033763e-04 -9.40708308e-05]]\n"
          ]
        }
      ]
    },
    {
      "cell_type": "code",
      "metadata": {
        "colab": {
          "base_uri": "https://localhost:8080/",
          "height": 534
        },
        "id": "iW-ecsOOSDQr",
        "outputId": "1ca26ba6-427c-4cce-fb33-44aad58c98ad"
      },
      "source": [
        "Xf1 = pd.DataFrame(Xf)\n",
        "print(Xf1)\n",
        "plt.plot(Xf1)"
      ],
      "execution_count": null,
      "outputs": [
        {
          "output_type": "stream",
          "name": "stdout",
          "text": [
            "             0         1\n",
            "0     0.000000  0.000497\n",
            "1     0.000146  0.000658\n",
            "2     0.000146  0.000660\n",
            "3     0.000146  0.000661\n",
            "4     0.000146  0.000662\n",
            "...        ...       ...\n",
            "6855 -0.000583 -0.000093\n",
            "6856 -0.000369  0.000135\n",
            "6857 -0.000583 -0.000094\n",
            "6858 -0.000440  0.000059\n",
            "6859 -0.000583 -0.000094\n",
            "\n",
            "[6860 rows x 2 columns]\n"
          ]
        },
        {
          "output_type": "execute_result",
          "data": {
            "text/plain": [
              "[<matplotlib.lines.Line2D at 0x7f1088464e10>,\n",
              " <matplotlib.lines.Line2D at 0x7f108841bf90>]"
            ]
          },
          "metadata": {},
          "execution_count": 5
        },
        {
          "output_type": "display_data",
          "data": {
            "image/png": "[encoded data removed]",
            "text/plain": [
              "<Figure size 432x288 with 1 Axes>"
            ]
          },
          "metadata": {
            "needs_background": "light"
          }
        }
      ]
    },
    {
      "cell_type": "markdown",
      "metadata": {
        "id": "KlC2_e1JH1Wk"
      },
      "source": [
        "**Data Normalization**"
      ]
    },
    {
      "cell_type": "code",
      "metadata": {
        "colab": {
          "base_uri": "https://localhost:8080/",
          "height": 534
        },
        "id": "KN02oYQFvTae",
        "outputId": "384564e6-aec4-4202-fbcf-0c5772a55e60"
      },
      "source": [
        "df_min_max_scaled = Xf1.copy()  \n",
        "# apply normalization techniques\n",
        "for column in df_min_max_scaled.columns:\n",
        "    df_min_max_scaled[column] = -1 + 2*(df_min_max_scaled[column] - df_min_max_scaled[column].min()) / (df_min_max_scaled[column].max() - df_min_max_scaled[column].min())    \n",
        "    Xn = df_min_max_scaled.copy()\n",
        "# view normalized data\n",
        "print(Xn)\n",
        "plt.plot(Xn)"
      ],
      "execution_count": null,
      "outputs": [
        {
          "output_type": "stream",
          "name": "stdout",
          "text": [
            "             0         1\n",
            "0     0.302506  0.182055\n",
            "1     0.628051  0.504114\n",
            "2     0.628051  0.507133\n",
            "3     0.628051  0.509444\n",
            "4     0.628109  0.511383\n",
            "...        ...       ...\n",
            "6855 -0.999765 -0.998491\n",
            "6856 -0.521729 -0.541251\n",
            "6857 -0.999765 -0.999057\n",
            "6858 -0.680388 -0.693978\n",
            "6859 -0.999765 -1.000000\n",
            "\n",
            "[6860 rows x 2 columns]\n"
          ]
        },
        {
          "output_type": "execute_result",
          "data": {
            "text/plain": [
              "[<matplotlib.lines.Line2D at 0x7f1087f15ad0>,\n",
              " <matplotlib.lines.Line2D at 0x7f1087f15cd0>]"
            ]
          },
          "metadata": {},
          "execution_count": 6
        },
        {
          "output_type": "display_data",
          "data": {
            "image/png": "[encoded data removed]",
            "text/plain": [
              "<Figure size 432x288 with 1 Axes>"
            ]
          },
          "metadata": {
            "needs_background": "light"
          }
        }
      ]
    },
    {
      "cell_type": "code",
      "metadata": {
        "colab": {
          "base_uri": "https://localhost:8080/"
        },
        "id": "fmKBtCVpvcDV",
        "outputId": "4bcce447-4383-4dac-db8c-68b7520dc68b"
      },
      "source": [
        "Y =df.drop(['Current(A)','Voltage(V)','Charge_Capacity(Ah)','Discharge_Capacity(Ah)','A','SOC%'], axis=1)\n",
        "Y = Y.dropna()\n",
        "print(Y)"
      ],
      "execution_count": null,
      "outputs": [
        {
          "output_type": "stream",
          "name": "stdout",
          "text": [
            "               SOC\n",
            "0     1.000000e+00\n",
            "1     1.000000e+00\n",
            "2     1.000000e+00\n",
            "3     1.000000e+00\n",
            "4     1.000000e+00\n",
            "...            ...\n",
            "6855  3.287134e-03\n",
            "6856  2.357365e-03\n",
            "6857  1.687184e-03\n",
            "6858  7.715350e-04\n",
            "6859 -3.916370e-07\n",
            "\n",
            "[6860 rows x 1 columns]\n"
          ]
        }
      ]
    },
    {
      "cell_type": "markdown",
      "metadata": {
        "id": "7Pi2HXD7H_hD"
      },
      "source": [
        "**Dataset Splitting into Training and Testing Data**"
      ]
    },
    {
      "cell_type": "code",
      "metadata": {
        "colab": {
          "base_uri": "https://localhost:8080/"
        },
        "id": "ktdISzP9vejf",
        "outputId": "6cfec94a-dd9c-4037-9155-49d3448bed61"
      },
      "source": [
        "from sklearn.model_selection import train_test_split\n",
        "train_Xn, test_Xn, train_Y, test_Y = train_test_split(Xn, Y,train_size=0.7,test_size=0.3)\n",
        "print(\"Labels for training and testing data\")\n",
        "print(train_Y)\n",
        "print(test_Y)\n",
        "print(train_Xn)\n",
        "print(test_Xn)"
      ],
      "execution_count": null,
      "outputs": [
        {
          "output_type": "stream",
          "name": "stdout",
          "text": [
            "Labels for training and testing data\n",
            "           SOC\n",
            "4322  0.363529\n",
            "1974  0.653716\n",
            "2417  0.653716\n",
            "4565  0.329729\n",
            "5677  0.157181\n",
            "...        ...\n",
            "18    1.000000\n",
            "6716  0.026038\n",
            "6604  0.036760\n",
            "5586  0.171312\n",
            "4223  0.378315\n",
            "\n",
            "[4802 rows x 1 columns]\n",
            "           SOC\n",
            "6221  0.080786\n",
            "4096  0.429083\n",
            "3544  0.488526\n",
            "4418  0.344988\n",
            "3784  0.462081\n",
            "...        ...\n",
            "2326  0.653716\n",
            "6072  0.100931\n",
            "3603  0.483726\n",
            "4323  0.363529\n",
            "6676  0.032556\n",
            "\n",
            "[2058 rows x 1 columns]\n",
            "             0         1\n",
            "4322  0.472332  0.451087\n",
            "1974  0.302506  0.339354\n",
            "2417  0.302506  0.339967\n",
            "4565  0.302499  0.290579\n",
            "5677  0.048574  0.020107\n",
            "...        ...       ...\n",
            "18    0.628051  0.517510\n",
            "6716  0.238224  0.194293\n",
            "6604  0.302499  0.257138\n",
            "5586  0.457513  0.411319\n",
            "4223 -0.053572 -0.056486\n",
            "\n",
            "[4802 rows x 2 columns]\n",
            "             0         1\n",
            "6221  0.126139  0.089892\n",
            "4096  0.302499  0.306285\n",
            "3544 -0.385063 -0.350897\n",
            "4418  0.096325  0.088730\n",
            "3784 -0.203646 -0.179221\n",
            "...        ...       ...\n",
            "2326  0.302506  0.339967\n",
            "6072 -0.236577 -0.257176\n",
            "3603  0.302499  0.313030\n",
            "4323  0.500206  0.478435\n",
            "6676  0.302499  0.257326\n",
            "\n",
            "[2058 rows x 2 columns]\n"
          ]
        }
      ]
    },
    {
      "cell_type": "markdown",
      "metadata": {
        "id": "7C5FWwLpIMur"
      },
      "source": [
        "**Sigmoid Function**"
      ]
    },
    {
      "cell_type": "code",
      "metadata": {
        "id": "7LFEYzm_vmkd"
      },
      "source": [
        "# defining the Sigmoid Function\n",
        "def sigmoid (Xn):\n",
        "    return 1/(1 + np.exp(-Xn))\n",
        "\n",
        "# derivative of Sigmoid Function\n",
        "def derivatives_sigmoid(Xn):\n",
        "    return Xn * (1 - Xn)"
      ],
      "execution_count": null,
      "outputs": []
    },
    {
      "cell_type": "markdown",
      "metadata": {
        "id": "9b6o37LqIRtI"
      },
      "source": [
        "**Initialization of Parameters**"
      ]
    },
    {
      "cell_type": "code",
      "metadata": {
        "id": "gnU0bLWXvrXc"
      },
      "source": [
        "#Weights\n",
        "w0 = 2*np.random.random((2, 3)) - 1 #for input   - 2 inputs, 1 outputs\n",
        "w1 = 2*np.random.random((3, 3)) - 1 #for layer 1 - 2 inputs, 1 outputs\n",
        "w2 = 2*np.random.random((3, 1)) - 1 #for layer 2 - 2 inputs, 1 outputs\n",
        "#learning rate\n",
        "n = 0.1\n",
        "epoch = 500\n",
        "hiddenlayer_neurons = 3\n",
        "hiddenlayer = 2"
      ],
      "execution_count": null,
      "outputs": []
    },
    {
      "cell_type": "code",
      "metadata": {
        "id": "07tm2JgJvusH"
      },
      "source": [
        "errors = []"
      ],
      "execution_count": null,
      "outputs": []
    },
    {
      "cell_type": "markdown",
      "metadata": {
        "id": "JD_lFLxSIp6B"
      },
      "source": [
        "**Feed-Forward Backpropagation**"
      ]
    },
    {
      "cell_type": "code",
      "metadata": {
        "id": "bt_dA_3_v0K0"
      },
      "source": [
        "for i in range (epoch):\n",
        "\n",
        "    #Feed forward network\n",
        "    layer0 = train_Xn    #Input Layer\n",
        "    layer1 = sigmoid(np.dot(layer0, w0))  #Hidden Layer 1\n",
        "    layer2 = sigmoid(np.dot(layer1, w1))  #Hidden Layer 2\n",
        "    layer3 = sigmoid(np.dot(layer2, w2))  #Output Layer \n",
        "\n",
        "    #Back propagation using gradient descent\n",
        "    layer3_error = train_Y - layer3\n",
        "    layer3_delta = layer3_error * derivatives_sigmoid(layer3)\n",
        "\n",
        "    layer2_error = layer3_delta.dot (w2.T)\n",
        "    layer2_delta = layer2_error * derivatives_sigmoid(layer2)\n",
        "\n",
        "    layer1_error = layer2_delta.dot (w1.T)\n",
        "    layer1_delta = layer1_error * derivatives_sigmoid(layer1)\n",
        "\n",
        "    w2 += layer2.T.dot(layer3_delta) * n \n",
        "    w1 += layer1.T.dot(layer2_delta) * n\n",
        "    w0 += layer0.T.dot(layer1_delta) * n\n",
        "\n",
        "    error = np.mean(np.abs(layer3_error))\n",
        "    errors.append(error)"
      ],
      "execution_count": null,
      "outputs": []
    },
    {
      "cell_type": "markdown",
      "metadata": {
        "id": "MBVDAkkXJBn1"
      },
      "source": [
        "**Calculation of Accuracy of Training Model**"
      ]
    },
    {
      "cell_type": "code",
      "metadata": {
        "id": "qN1iFrFbv3Cv"
      },
      "source": [
        "accuracy_training = (1 - error) * 100"
      ],
      "execution_count": null,
      "outputs": []
    },
    {
      "cell_type": "code",
      "metadata": {
        "colab": {
          "base_uri": "https://localhost:8080/"
        },
        "id": "SOXl7qYGv-X_",
        "outputId": "ce12e086-8d8c-464e-b5ba-713057331d6b"
      },
      "source": [
        "print (\"Training Accuracy of the model   \" + str (round(accuracy_training,2)) + \"%\")"
      ],
      "execution_count": null,
      "outputs": [
        {
          "output_type": "stream",
          "name": "stdout",
          "text": [
            "Training Accuracy of the model   SOC    76.9\n",
            "dtype: float64%\n"
          ]
        }
      ]
    },
    {
      "cell_type": "markdown",
      "metadata": {
        "id": "M-NqEgTTJPns"
      },
      "source": [
        "**SOC Graph**"
      ]
    },
    {
      "cell_type": "code",
      "metadata": {
        "colab": {
          "base_uri": "https://localhost:8080/",
          "height": 279
        },
        "id": "ORG2E3xhv6qF",
        "outputId": "13237c61-2026-4faa-d88d-a65f5580daab"
      },
      "source": [
        "plt.plot(errors)\n",
        "plt.xlabel('Training')\n",
        "plt.ylabel('Error')\n",
        "plt.show()"
      ],
      "execution_count": null,
      "outputs": [
        {
          "output_type": "display_data",
          "data": {
            "image/png": "[encoded data removed]",
            "text/plain": [
              "<Figure size 432x288 with 1 Axes>"
            ]
          },
          "metadata": {
            "needs_background": "light"
          }
        }
      ]
    },
    {
      "cell_type": "markdown",
      "metadata": {
        "id": "e5Au3E7zJVLl"
      },
      "source": [
        "**Mean Square Error Calculation**"
      ]
    },
    {
      "cell_type": "code",
      "metadata": {
        "colab": {
          "base_uri": "https://localhost:8080/"
        },
        "id": "jslloljawBlt",
        "outputId": "cbde906b-1ca5-4be5-f461-5f7024e036ef"
      },
      "source": [
        "MSE = np.mean((train_Y - layer3)**2) # Mean Squared Error\n",
        "print(MSE)\n",
        "errors.append(MSE)"
      ],
      "execution_count": null,
      "outputs": [
        {
          "output_type": "stream",
          "name": "stdout",
          "text": [
            "SOC    0.089634\n",
            "dtype: float64\n"
          ]
        }
      ]
    },
    {
      "cell_type": "code",
      "metadata": {
        "colab": {
          "base_uri": "https://localhost:8080/"
        },
        "id": "ARngKW_9xr7Z",
        "outputId": "a58b3512-21cc-49b0-a391-be555a4197eb"
      },
      "source": [
        "from sklearn.metrics import mean_squared_error\n",
        "mean_squared_error(train_Y,layer3)"
      ],
      "execution_count": null,
      "outputs": [
        {
          "output_type": "execute_result",
          "data": {
            "text/plain": [
              "0.08963436584436803"
            ]
          },
          "metadata": {},
          "execution_count": 17
        }
      ]
    },
    {
      "cell_type": "markdown",
      "metadata": {
        "id": "Nih_r-0EJfQe"
      },
      "source": [
        "**Absolute Error Calculation**"
      ]
    },
    {
      "cell_type": "code",
      "metadata": {
        "colab": {
          "base_uri": "https://localhost:8080/"
        },
        "id": "LwkDpdXxAsiz",
        "outputId": "ac22ef82-ab27-4431-fc5f-574706589fee"
      },
      "source": [
        "print(error) # Absolute Error Value"
      ],
      "execution_count": null,
      "outputs": [
        {
          "output_type": "stream",
          "name": "stdout",
          "text": [
            "SOC    0.230968\n",
            "dtype: float64\n"
          ]
        }
      ]
    },
    {
      "cell_type": "code",
      "metadata": {
        "colab": {
          "base_uri": "https://localhost:8080/",
          "height": 279
        },
        "id": "AyKWf4RfBA61",
        "outputId": "17d79369-3747-49b3-a746-87e86a34bc04"
      },
      "source": [
        "plt.plot(errors)\n",
        "plt.xlabel('Training')\n",
        "plt.ylabel('MSE')# SOC \n",
        "plt.show()"
      ],
      "execution_count": null,
      "outputs": [
        {
          "output_type": "display_data",
          "data": {
            "image/png": "[encoded data removed]",
            "text/plain": [
              "<Figure size 432x288 with 1 Axes>"
            ]
          },
          "metadata": {
            "needs_background": "light"
          }
        }
      ]
    },
    {
      "cell_type": "markdown",
      "metadata": {
        "id": "xoy1zVxRJpqM"
      },
      "source": [
        "**Linear Regression**"
      ]
    },
    {
      "cell_type": "code",
      "metadata": {
        "id": "rw8kv2tWG0zV"
      },
      "source": [
        "from sklearn.linear_model import LinearRegression\n",
        "linear_regressor = LinearRegression()\n",
        "linear_regressor.fit(train_Y,layer3)\n",
        "layer2n = linear_regressor.predict(train_Y)"
      ],
      "execution_count": null,
      "outputs": []
    },
    {
      "cell_type": "code",
      "metadata": {
        "colab": {
          "base_uri": "https://localhost:8080/",
          "height": 265
        },
        "id": "bi1LFdX7G5Al",
        "outputId": "a8ecc44a-d05f-44de-ab0c-4da69acddcad"
      },
      "source": [
        "plt.scatter(train_Y,layer2n)\n",
        "plt.plot(train_Y, layer2n, color='red')\n",
        "plt.show()"
      ],
      "execution_count": null,
      "outputs": [
        {
          "output_type": "display_data",
          "data": {
            "image/png": "[encoded data removed]",
            "text/plain": [
              "<Figure size 432x288 with 1 Axes>"
            ]
          },
          "metadata": {
            "needs_background": "light"
          }
        }
      ]
    },
    {
      "cell_type": "markdown",
      "metadata": {
        "id": "ze2k8a61Jxdz"
      },
      "source": [
        "**Testing Part**"
      ]
    },
    {
      "cell_type": "code",
      "metadata": {
        "id": "Ff2ZEL0zR1BP"
      },
      "source": [
        "#Testing\n",
        "layer0t = test_Xn\n",
        "\n",
        "layer1t = sigmoid(np.dot(layer0t, w0))\n",
        "layer2t = sigmoid(np.dot(layer1t, w1))\n",
        "layer3t = sigmoid(np.dot(layer2t, w2))\n",
        "\n",
        "layer3t_error = test_Y - layer3t\n",
        "error = np.mean(np.abs(layer3t_error))\n",
        "errors.append(error)"
      ],
      "execution_count": null,
      "outputs": []
    },
    {
      "cell_type": "markdown",
      "metadata": {
        "id": "4jprAAzjJ4Yz"
      },
      "source": [
        "**Testing Accuracy Calculation**"
      ]
    },
    {
      "cell_type": "code",
      "metadata": {
        "id": "yme5DifrR9Ed"
      },
      "source": [
        "accuracy_testing = (1 - error) * 100"
      ],
      "execution_count": null,
      "outputs": []
    },
    {
      "cell_type": "code",
      "metadata": {
        "colab": {
          "base_uri": "https://localhost:8080/"
        },
        "id": "OV9rBvnuSD2U",
        "outputId": "3d063ea5-6a16-4e48-8642-a3c016ecc9a5"
      },
      "source": [
        "print (\"Testing Accuracy of the model   \" + str (round(accuracy_testing,2)) + \"%\")"
      ],
      "execution_count": null,
      "outputs": [
        {
          "output_type": "stream",
          "name": "stdout",
          "text": [
            "Testing Accuracy of the model   SOC    76.49\n",
            "dtype: float64%\n"
          ]
        }
      ]
    },
    {
      "cell_type": "markdown",
      "metadata": {
        "id": "nWLFWj5tKEyb"
      },
      "source": [
        "**SOC error Graph**"
      ]
    },
    {
      "cell_type": "code",
      "metadata": {
        "colab": {
          "base_uri": "https://localhost:8080/",
          "height": 279
        },
        "id": "clKeWh_AS7dg",
        "outputId": "865112ff-2b67-489a-f112-d64b5d40e856"
      },
      "source": [
        "plt.plot(errors)\n",
        "plt.xlabel('Testing')\n",
        "plt.ylabel('Error')\n",
        "plt.show()"
      ],
      "execution_count": null,
      "outputs": [
        {
          "output_type": "display_data",
          "data": {
            "image/png": "[encoded data removed]",
            "text/plain": [
              "<Figure size 432x288 with 1 Axes>"
            ]
          },
          "metadata": {
            "needs_background": "light"
          }
        }
      ]
    },
    {
      "cell_type": "markdown",
      "metadata": {
        "id": "ftDBz4veKLT7"
      },
      "source": [
        "**Mean Square Error**"
      ]
    },
    {
      "cell_type": "code",
      "metadata": {
        "colab": {
          "base_uri": "https://localhost:8080/"
        },
        "id": "hMgcVuPnTQkp",
        "outputId": "cbbf71a1-d037-4b39-b09b-63057df05b16"
      },
      "source": [
        "MSE_T = np.mean((test_Y - layer3t)**2) # Mean Squared Error\n",
        "print(MSE_T)\n",
        "errors.append(MSE_T)"
      ],
      "execution_count": null,
      "outputs": [
        {
          "output_type": "stream",
          "name": "stdout",
          "text": [
            "SOC    0.091605\n",
            "dtype: float64\n"
          ]
        }
      ]
    },
    {
      "cell_type": "code",
      "metadata": {
        "colab": {
          "base_uri": "https://localhost:8080/"
        },
        "id": "oEh_WtSlTXOt",
        "outputId": "30372b6b-1690-4acc-e404-44c188e618b3"
      },
      "source": [
        "from sklearn.metrics import mean_squared_error\n",
        "mean_squared_error(test_Y,layer3t)"
      ],
      "execution_count": null,
      "outputs": [
        {
          "output_type": "execute_result",
          "data": {
            "text/plain": [
              "0.045471820893367654"
            ]
          },
          "metadata": {},
          "execution_count": 95
        }
      ]
    },
    {
      "cell_type": "markdown",
      "metadata": {
        "id": "Pwi0wvySKQbG"
      },
      "source": [
        "**Mean Absolute Error**"
      ]
    },
    {
      "cell_type": "code",
      "metadata": {
        "colab": {
          "base_uri": "https://localhost:8080/"
        },
        "id": "-GnNCO-5Tq65",
        "outputId": "5572cfd3-cb7d-4682-9038-9b0af061a5e1"
      },
      "source": [
        "print(error) # Absolute Error Value"
      ],
      "execution_count": null,
      "outputs": [
        {
          "output_type": "stream",
          "name": "stdout",
          "text": [
            "SOC    0.235136\n",
            "dtype: float64\n"
          ]
        }
      ]
    },
    {
      "cell_type": "code",
      "metadata": {
        "colab": {
          "base_uri": "https://localhost:8080/",
          "height": 279
        },
        "id": "rXQEZLs1TxRR",
        "outputId": "75b1db39-056d-4998-c1bd-401a52977205"
      },
      "source": [
        "plt.plot(errors)\n",
        "plt.xlabel('Testing')\n",
        "plt.ylabel('MSE_T')# SOC \n",
        "plt.show()"
      ],
      "execution_count": null,
      "outputs": [
        {
          "output_type": "display_data",
          "data": {
            "image/png": "[encoded data removed]",
            "text/plain": [
              "<Figure size 432x288 with 1 Axes>"
            ]
          },
          "metadata": {
            "needs_background": "light"
          }
        }
      ]
    }
  ]
}